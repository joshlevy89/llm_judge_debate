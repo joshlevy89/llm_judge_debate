{
  "cells": [
    {
      "cell_type": "markdown",
      "metadata": {},
      "source": [
        "# Debate Results Analysis\n",
        "\n",
        "Analyze accuracy across different conditions:\n",
        "- Debater Direct QA\n",
        "- Judge Direct QA\n",
        "- Judge After Interactive Debate\n",
        "- Judge After Non-Interactive Debate\n"
      ]
    },
    {
      "cell_type": "code",
      "execution_count": 2,
      "metadata": {},
      "outputs": [],
      "source": [
        "import pandas as pd\n",
        "import glob\n"
      ]
    },
    {
      "cell_type": "code",
      "execution_count": null,
      "metadata": {},
      "outputs": [
        {
          "name": "stdout",
          "output_type": "stream",
          "text": [
            "Loading: test_debate_results/master_results_seed1100_1200_n2_turns5_20251016_122310.csv\n",
            "Total debates: 2\n"
          ]
        }
      ],
      "source": [
        "# Load the most recent master results CSV (now in subdirectories)\n",
        "csv_files = glob.glob('test_debate_results/*/master_results_*.csv')\n",
        "latest_csv = max(csv_files, key=lambda x: x.split('_')[-1]) if csv_files else None\n",
        "\n",
        "if latest_csv:\n",
        "    print(f\"Loading: {latest_csv}\")\n",
        "    df = pd.read_csv(latest_csv)\n",
        "    print(f\"Total debates: {len(df)}\")\n",
        "else:\n",
        "    print(\"No master results CSV found\")\n"
      ]
    },
    {
      "cell_type": "code",
      "execution_count": 6,
      "metadata": {},
      "outputs": [
        {
          "name": "stdout",
          "output_type": "stream",
          "text": [
            "\n",
            "Accuracies across 2 debates:\n",
            "\n",
            "==================================================\n",
            "Debater Direct QA                       : 100.0%\n",
            "Judge Direct QA                         : 100.0%\n",
            "Judge After Interactive Debate          : 100.0%\n",
            "Judge After Non-Interactive Debate      : 100.0%\n",
            "==================================================\n"
          ]
        }
      ],
      "source": [
        "# Calculate accuracies\n",
        "n_total = len(df)\n",
        "\n",
        "accuracies = {\n",
        "    'Debater Direct QA': (df['debater_direct_correct'].sum() / n_total * 100),\n",
        "    'Judge Direct QA': (df['judge_direct_correct'].sum() / n_total * 100),\n",
        "    'Judge After Interactive Debate': (df['interactive_judge_after_debate_correct'].sum() / n_total * 100),\n",
        "    'Judge After Non-Interactive Debate': (df['non_interactive_judge_after_debate_correct'].sum() / n_total * 100)\n",
        "}\n",
        "\n",
        "print(f\"\\nAccuracies across {n_total} debates:\\n\")\n",
        "print(\"=\"*50)\n",
        "for condition, accuracy in accuracies.items():\n",
        "    print(f\"{condition:40s}: {accuracy:5.1f}%\")\n",
        "print(\"=\"*50)\n"
      ]
    },
    {
      "cell_type": "code",
      "execution_count": 7,
      "metadata": {},
      "outputs": [
        {
          "data": {
            "text/html": [
              "<div>\n",
              "<style scoped>\n",
              "    .dataframe tbody tr th:only-of-type {\n",
              "        vertical-align: middle;\n",
              "    }\n",
              "\n",
              "    .dataframe tbody tr th {\n",
              "        vertical-align: top;\n",
              "    }\n",
              "\n",
              "    .dataframe thead th {\n",
              "        text-align: right;\n",
              "    }\n",
              "</style>\n",
              "<table border=\"1\" class=\"dataframe\">\n",
              "  <thead>\n",
              "    <tr style=\"text-align: right;\">\n",
              "      <th></th>\n",
              "      <th>Condition</th>\n",
              "      <th>Accuracy (%)</th>\n",
              "    </tr>\n",
              "  </thead>\n",
              "  <tbody>\n",
              "    <tr>\n",
              "      <th>0</th>\n",
              "      <td>Debater Direct QA</td>\n",
              "      <td>100.0</td>\n",
              "    </tr>\n",
              "    <tr>\n",
              "      <th>1</th>\n",
              "      <td>Judge Direct QA</td>\n",
              "      <td>100.0</td>\n",
              "    </tr>\n",
              "    <tr>\n",
              "      <th>2</th>\n",
              "      <td>Judge After Interactive Debate</td>\n",
              "      <td>100.0</td>\n",
              "    </tr>\n",
              "    <tr>\n",
              "      <th>3</th>\n",
              "      <td>Judge After Non-Interactive Debate</td>\n",
              "      <td>100.0</td>\n",
              "    </tr>\n",
              "  </tbody>\n",
              "</table>\n",
              "</div>"
            ],
            "text/plain": [
              "                            Condition  Accuracy (%)\n",
              "0                   Debater Direct QA         100.0\n",
              "1                     Judge Direct QA         100.0\n",
              "2      Judge After Interactive Debate         100.0\n",
              "3  Judge After Non-Interactive Debate         100.0"
            ]
          },
          "execution_count": 7,
          "metadata": {},
          "output_type": "execute_result"
        }
      ],
      "source": [
        "# Show as DataFrame\n",
        "results_df = pd.DataFrame([\n",
        "    {'Condition': k, 'Accuracy (%)': v} for k, v in accuracies.items()\n",
        "])\n",
        "results_df\n"
      ]
    },
    {
      "cell_type": "code",
      "execution_count": 8,
      "metadata": {},
      "outputs": [
        {
          "name": "stdout",
          "output_type": "stream",
          "text": [
            "\n",
            "Average Confidence Levels:\n",
            "\n",
            "==================================================\n",
            "Debater Direct QA                       : 100.0%\n",
            "Judge Direct QA                         : 85.0%\n",
            "Judge After Interactive Debate          : 87.5%\n",
            "Judge After Non-Interactive Debate      : 87.5%\n",
            "==================================================\n"
          ]
        }
      ],
      "source": [
        "# Average confidence levels\n",
        "print(\"\\nAverage Confidence Levels:\\n\")\n",
        "print(\"=\"*50)\n",
        "print(f\"{'Debater Direct QA':40s}: {df['debater_confidence'].mean():.1f}%\")\n",
        "print(f\"{'Judge Direct QA':40s}: {df['judge_confidence'].mean():.1f}%\")\n",
        "print(f\"{'Judge After Interactive Debate':40s}: {df['interactive_judge_after_debate_confidence'].mean():.1f}%\")\n",
        "print(f\"{'Judge After Non-Interactive Debate':40s}: {df['non_interactive_judge_after_debate_confidence'].mean():.1f}%\")\n",
        "print(\"=\"*50)\n"
      ]
    },
    {
      "cell_type": "code",
      "execution_count": 9,
      "metadata": {},
      "outputs": [
        {
          "name": "stdout",
          "output_type": "stream",
          "text": [
            "\n",
            "Average Debate Turns:\n",
            "\n",
            "==================================================\n",
            "Interactive Debates                     : 4.0 turns\n",
            "Non-Interactive Debates                 : 4.5 turns\n",
            "==================================================\n"
          ]
        }
      ],
      "source": [
        "# Compare debate turns\n",
        "print(\"\\nAverage Debate Turns:\\n\")\n",
        "print(\"=\"*50)\n",
        "print(f\"{'Interactive Debates':40s}: {df['interactive_debate_turns'].mean():.1f} turns\")\n",
        "print(f\"{'Non-Interactive Debates':40s}: {df['non_interactive_debate_turns'].mean():.1f} turns\")\n",
        "print(\"=\"*50)\n"
      ]
    },
    {
      "cell_type": "code",
      "execution_count": null,
      "metadata": {},
      "outputs": [],
      "source": []
    }
  ],
  "metadata": {
    "kernelspec": {
      "display_name": "llm_judge_debate",
      "language": "python",
      "name": "python3"
    },
    "language_info": {
      "codemirror_mode": {
        "name": "ipython",
        "version": 3
      },
      "file_extension": ".py",
      "mimetype": "text/x-python",
      "name": "python",
      "nbconvert_exporter": "python",
      "pygments_lexer": "ipython3",
      "version": "3.11.13"
    }
  },
  "nbformat": 4,
  "nbformat_minor": 2
}
