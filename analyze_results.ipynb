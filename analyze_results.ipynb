{
  "cells": [
    {
      "cell_type": "markdown",
      "metadata": {},
      "source": [
        "# Debate Results Analysis\n",
        "\n",
        "Analyze accuracy across different conditions:\n",
        "- Debater Direct QA\n",
        "- Judge Direct QA\n",
        "- Judge After Interactive Debate\n",
        "- Judge After Non-Interactive Debate\n"
      ]
    },
    {
      "cell_type": "code",
      "execution_count": 16,
      "metadata": {},
      "outputs": [],
      "source": [
        "import pandas as pd\n",
        "import glob\n"
      ]
    },
    {
      "cell_type": "code",
      "execution_count": 31,
      "metadata": {},
      "outputs": [
        {
          "name": "stdout",
          "output_type": "stream",
          "text": [
            "Loading: test_debate_results/master_results_random_n100_20251017_091329/master_results_random_n100_20251017_091329.csv\n",
            "Total debates: 97\n"
          ]
        }
      ],
      "source": [
        "# Load the most recent master results CSV (now in subdirectories)\n",
        "# latest_csv = 'test_debate_results/master_results_random_n100_20251016_132254/master_results_random_n100_20251016_132254.csv'\n",
        "latest_csv = 'test_debate_results/master_results_random_n100_20251017_091329/master_results_random_n100_20251017_091329.csv'\n",
        "\n",
        "if latest_csv:\n",
        "    print(f\"Loading: {latest_csv}\")\n",
        "    df = pd.read_csv(latest_csv)\n",
        "    print(f\"Total debates: {len(df)}\")\n",
        "else:\n",
        "    print(\"No master results CSV found\")\n"
      ]
    },
    {
      "cell_type": "code",
      "execution_count": 32,
      "metadata": {},
      "outputs": [
        {
          "name": "stdout",
          "output_type": "stream",
          "text": [
            "\n",
            "============================================================\n",
            "DATA SUMMARY\n",
            "============================================================\n",
            "Total debates: 97\n",
            "\n",
            "Direct QA Modes:\n",
            "  Debater Direct QA entries      : 97\n",
            "  Judge Direct QA entries        : 97\n",
            "\n",
            "Debate Modes:\n",
            "  Interactive Debate entries     : 85\n",
            "  Non-Interactive Debate entries : 75\n",
            "============================================================\n"
          ]
        }
      ],
      "source": [
        "# Data Summary: Category Counts\n",
        "print(\"\\n\" + \"=\"*60)\n",
        "print(\"DATA SUMMARY\")\n",
        "print(\"=\"*60)\n",
        "print(f\"Total debates: {len(df)}\")\n",
        "print()\n",
        "print(\"Direct QA Modes:\")\n",
        "print(f\"  Debater Direct QA entries      : {df['debater_direct_correct'].notna().sum()}\")\n",
        "print(f\"  Judge Direct QA entries        : {df['judge_direct_correct'].notna().sum()}\")\n",
        "print()\n",
        "print(\"Debate Modes:\")\n",
        "print(f\"  Interactive Debate entries     : {df['interactive_judge_after_debate_correct'].notna().sum()}\")\n",
        "print(f\"  Non-Interactive Debate entries : {df['non_interactive_judge_after_debate_correct'].notna().sum()}\")\n",
        "print(\"=\"*60)\n"
      ]
    },
    {
      "cell_type": "code",
      "execution_count": 35,
      "metadata": {},
      "outputs": [
        {
          "name": "stdout",
          "output_type": "stream",
          "text": [
            "\n",
            "Accuracies across 97 debates:\n",
            "\n",
            "============================================================\n",
            "Debater Direct QA                       :  55.7% (n=97)\n",
            "Judge Direct QA                         :  57.7% (n=97)\n",
            "Judge After Interactive Debate          :  60.0% (n=85)\n",
            "Judge After Non-Interactive Debate      :  56.0% (n=75)\n",
            "============================================================\n"
          ]
        }
      ],
      "source": [
        "# Calculate accuracies with proper handling of missing values\n",
        "n_total = len(df)\n",
        "\n",
        "# Count valid (non-empty) entries for each category\n",
        "counts = {\n",
        "    'Debater Direct QA': df['debater_direct_correct'].notna().sum(),\n",
        "    'Judge Direct QA': df['judge_direct_correct'].notna().sum(),\n",
        "    'Judge After Interactive Debate': df['interactive_judge_after_debate_correct'].notna().sum(),\n",
        "    'Judge After Non-Interactive Debate': df['non_interactive_judge_after_debate_correct'].notna().sum()\n",
        "}\n",
        "\n",
        "# Calculate accuracies only from valid entries\n",
        "accuracies = {\n",
        "    'Debater Direct QA': (df['debater_direct_correct'].sum() / counts['Debater Direct QA'] * 100),\n",
        "    'Judge Direct QA': (df['judge_direct_correct'].sum() / counts['Judge Direct QA'] * 100),\n",
        "    'Judge After Interactive Debate': (df['interactive_judge_after_debate_correct'].sum() / counts['Judge After Interactive Debate'] * 100),\n",
        "    'Judge After Non-Interactive Debate': (df['non_interactive_judge_after_debate_correct'].sum() / counts['Judge After Non-Interactive Debate'] * 100)\n",
        "}\n",
        "\n",
        "print(f\"\\nAccuracies across {n_total} debates:\\n\")\n",
        "print(\"=\"*60)\n",
        "for condition in accuracies.keys():\n",
        "    print(f\"{condition:40s}: {accuracies[condition]:5.1f}% (n={counts[condition]})\")\n",
        "print(\"=\"*60)\n"
      ]
    },
    {
      "cell_type": "code",
      "execution_count": 36,
      "metadata": {},
      "outputs": [
        {
          "data": {
            "text/html": [
              "<div>\n",
              "<style scoped>\n",
              "    .dataframe tbody tr th:only-of-type {\n",
              "        vertical-align: middle;\n",
              "    }\n",
              "\n",
              "    .dataframe tbody tr th {\n",
              "        vertical-align: top;\n",
              "    }\n",
              "\n",
              "    .dataframe thead th {\n",
              "        text-align: right;\n",
              "    }\n",
              "</style>\n",
              "<table border=\"1\" class=\"dataframe\">\n",
              "  <thead>\n",
              "    <tr style=\"text-align: right;\">\n",
              "      <th></th>\n",
              "      <th>Condition</th>\n",
              "      <th>Accuracy (%)</th>\n",
              "    </tr>\n",
              "  </thead>\n",
              "  <tbody>\n",
              "    <tr>\n",
              "      <th>0</th>\n",
              "      <td>Debater Direct QA</td>\n",
              "      <td>55.670103</td>\n",
              "    </tr>\n",
              "    <tr>\n",
              "      <th>1</th>\n",
              "      <td>Judge Direct QA</td>\n",
              "      <td>57.731959</td>\n",
              "    </tr>\n",
              "    <tr>\n",
              "      <th>2</th>\n",
              "      <td>Judge After Interactive Debate</td>\n",
              "      <td>60.000000</td>\n",
              "    </tr>\n",
              "    <tr>\n",
              "      <th>3</th>\n",
              "      <td>Judge After Non-Interactive Debate</td>\n",
              "      <td>56.000000</td>\n",
              "    </tr>\n",
              "  </tbody>\n",
              "</table>\n",
              "</div>"
            ],
            "text/plain": [
              "                            Condition  Accuracy (%)\n",
              "0                   Debater Direct QA     55.670103\n",
              "1                     Judge Direct QA     57.731959\n",
              "2      Judge After Interactive Debate     60.000000\n",
              "3  Judge After Non-Interactive Debate     56.000000"
            ]
          },
          "execution_count": 36,
          "metadata": {},
          "output_type": "execute_result"
        }
      ],
      "source": [
        "# Show as DataFrame\n",
        "results_df = pd.DataFrame([\n",
        "    {'Condition': k, 'Accuracy (%)': v} for k, v in accuracies.items()\n",
        "])\n",
        "results_df\n"
      ]
    },
    {
      "cell_type": "code",
      "execution_count": 37,
      "metadata": {},
      "outputs": [
        {
          "name": "stdout",
          "output_type": "stream",
          "text": [
            "\n",
            "Average Confidence Levels:\n",
            "\n",
            "============================================================\n",
            "Debater Direct QA                       : 85.6% (n=97)\n",
            "Judge Direct QA                         : 85.6% (n=97)\n",
            "Judge After Interactive Debate          : 80.1% (n=85)\n",
            "Judge After Non-Interactive Debate      : 81.1% (n=75)\n",
            "============================================================\n"
          ]
        }
      ],
      "source": [
        "# Average confidence levels with counts\n",
        "print(\"\\nAverage Confidence Levels:\\n\")\n",
        "print(\"=\"*60)\n",
        "\n",
        "confidence_cols = {\n",
        "    'Debater Direct QA': 'debater_confidence',\n",
        "    'Judge Direct QA': 'judge_confidence',\n",
        "    'Judge After Interactive Debate': 'interactive_judge_after_debate_confidence',\n",
        "    'Judge After Non-Interactive Debate': 'non_interactive_judge_after_debate_confidence'\n",
        "}\n",
        "\n",
        "for label, col in confidence_cols.items():\n",
        "    valid_count = df[col].notna().sum()\n",
        "    avg_conf = df[col].mean()  # .mean() automatically ignores NaN\n",
        "    print(f\"{label:40s}: {avg_conf:.1f}% (n={valid_count})\")\n",
        "    \n",
        "print(\"=\"*60)\n"
      ]
    },
    {
      "cell_type": "code",
      "execution_count": 38,
      "metadata": {},
      "outputs": [
        {
          "name": "stdout",
          "output_type": "stream",
          "text": [
            "\n",
            "Confidence Levels: Correct vs Incorrect Answers:\n",
            "\n",
            "================================================================================\n",
            "\n",
            "Debater Direct QA:\n",
            "  Correct   (n=54):  87.0% confidence\n",
            "  Incorrect (n=43):  83.8% confidence\n",
            "  Difference:  +3.2% (correct - incorrect)\n",
            "\n",
            "Judge Direct QA:\n",
            "  Correct   (n=56):  85.7% confidence\n",
            "  Incorrect (n=41):  85.4% confidence\n",
            "  Difference:  +0.3% (correct - incorrect)\n",
            "\n",
            "Judge After Interactive Debate:\n",
            "  Correct   (n=51):  79.9% confidence\n",
            "  Incorrect (n=34):  80.4% confidence\n",
            "  Difference:  -0.5% (correct - incorrect)\n",
            "\n",
            "Judge After Non-Interactive Debate:\n",
            "  Correct   (n=42):  81.4% confidence\n",
            "  Incorrect (n=33):  80.6% confidence\n",
            "  Difference:  +0.8% (correct - incorrect)\n",
            "\n",
            "================================================================================\n"
          ]
        }
      ],
      "source": [
        "# Compare confidence on correct vs incorrect answers\n",
        "print(\"\\nConfidence Levels: Correct vs Incorrect Answers:\\n\")\n",
        "print(\"=\"*80)\n",
        "\n",
        "categories = [\n",
        "    ('Debater Direct QA', 'debater_direct_correct', 'debater_confidence'),\n",
        "    ('Judge Direct QA', 'judge_direct_correct', 'judge_confidence'),\n",
        "    ('Judge After Interactive Debate', 'interactive_judge_after_debate_correct', 'interactive_judge_after_debate_confidence'),\n",
        "    ('Judge After Non-Interactive Debate', 'non_interactive_judge_after_debate_correct', 'non_interactive_judge_after_debate_confidence')\n",
        "]\n",
        "\n",
        "for label, correct_col, conf_col in categories:\n",
        "    # Filter for correct and incorrect answers with valid confidence values\n",
        "    correct_mask = (df[correct_col] == True) & (df[conf_col].notna())\n",
        "    incorrect_mask = (df[correct_col] == False) & (df[conf_col].notna())\n",
        "    \n",
        "    correct_count = correct_mask.sum()\n",
        "    incorrect_count = incorrect_mask.sum()\n",
        "    \n",
        "    correct_conf = df.loc[correct_mask, conf_col].mean() if correct_count > 0 else 0\n",
        "    incorrect_conf = df.loc[incorrect_mask, conf_col].mean() if incorrect_count > 0 else 0\n",
        "    \n",
        "    print(f\"\\n{label}:\")\n",
        "    print(f\"  Correct   (n={correct_count:2d}): {correct_conf:5.1f}% confidence\")\n",
        "    print(f\"  Incorrect (n={incorrect_count:2d}): {incorrect_conf:5.1f}% confidence\")\n",
        "    \n",
        "    if correct_count > 0 and incorrect_count > 0:\n",
        "        diff = correct_conf - incorrect_conf\n",
        "        print(f\"  Difference: {diff:+5.1f}% (correct - incorrect)\")\n",
        "\n",
        "print(\"\\n\" + \"=\"*80)\n"
      ]
    },
    {
      "cell_type": "code",
      "execution_count": 39,
      "metadata": {},
      "outputs": [
        {
          "name": "stdout",
          "output_type": "stream",
          "text": [
            "\n",
            "Question Coverage Analysis:\n",
            "\n",
            "================================================================================\n",
            "Questions answered by ALL 4 categories: 65\n",
            "Questions with at least one category missing: 32\n",
            "\n",
            "Missing by category:\n",
            "  Debater Direct QA missing       : 0\n",
            "  Judge Direct QA missing         : 0\n",
            "  Interactive Debate missing      : 12\n",
            "  Non-Interactive Debate missing  : 22\n",
            "================================================================================\n"
          ]
        }
      ],
      "source": [
        "# Analyze which questions each category answered\n",
        "print(\"\\nQuestion Coverage Analysis:\\n\")\n",
        "print(\"=\"*80)\n",
        "\n",
        "# Create boolean masks for which questions were answered by each category\n",
        "has_debater = df['debater_direct_correct'].notna()\n",
        "has_judge = df['judge_direct_correct'].notna()\n",
        "has_interactive = df['interactive_judge_after_debate_correct'].notna()\n",
        "has_non_interactive = df['non_interactive_judge_after_debate_correct'].notna()\n",
        "\n",
        "# Questions answered by all categories\n",
        "all_answered = has_debater & has_judge & has_interactive & has_non_interactive\n",
        "print(f\"Questions answered by ALL 4 categories: {all_answered.sum()}\")\n",
        "\n",
        "# Questions with at least one missing\n",
        "any_missing = ~all_answered\n",
        "print(f\"Questions with at least one category missing: {any_missing.sum()}\")\n",
        "\n",
        "# Show which categories have missing data\n",
        "print(f\"\\nMissing by category:\")\n",
        "print(f\"  Debater Direct QA missing       : {(~has_debater).sum()}\")\n",
        "print(f\"  Judge Direct QA missing         : {(~has_judge).sum()}\")\n",
        "print(f\"  Interactive Debate missing      : {(~has_interactive).sum()}\")\n",
        "print(f\"  Non-Interactive Debate missing  : {(~has_non_interactive).sum()}\")\n",
        "\n",
        "print(\"=\"*80)\n"
      ]
    },
    {
      "cell_type": "code",
      "execution_count": 40,
      "metadata": {},
      "outputs": [
        {
          "name": "stdout",
          "output_type": "stream",
          "text": [
            "\n",
            "Accuracy Comparison: Complete Questions Only vs All Questions\n",
            "\n",
            "================================================================================\n",
            "On 65 questions answered by ALL categories:\n",
            "\n",
            "  Debater Direct QA                  :  58.5%\n",
            "  Judge Direct QA                    :  60.0%\n",
            "  Interactive Debate                 :  56.9%\n",
            "  Non-Interactive Debate             :  58.5%\n",
            "\n",
            "On ALL questions (with valid answers per category):\n",
            "\n",
            "  Debater Direct QA                  :  55.7%\n",
            "  Judge Direct QA                    :  57.7%\n",
            "  Judge After Interactive Debate     :  60.0%\n",
            "  Judge After Non-Interactive Debate :  56.0%\n",
            "\n",
            "Difference (Complete Only - All Questions):\n",
            "\n",
            "  Debater Direct QA                  :  +2.8% (complete questions are easier)\n",
            "  Judge Direct QA                    :  +2.3% (complete questions are easier)\n"
          ]
        },
        {
          "ename": "KeyError",
          "evalue": "'Judge After Interactive Debate'",
          "output_type": "error",
          "traceback": [
            "\u001b[31m---------------------------------------------------------------------------\u001b[39m",
            "\u001b[31mKeyError\u001b[39m                                  Traceback (most recent call last)",
            "\u001b[36mCell\u001b[39m\u001b[36m \u001b[39m\u001b[32mIn[40]\u001b[39m\u001b[32m, line 24\u001b[39m\n\u001b[32m     22\u001b[39m \u001b[38;5;28mprint\u001b[39m(\u001b[33mf\u001b[39m\u001b[33m\"\u001b[39m\u001b[38;5;130;01m\\n\u001b[39;00m\u001b[33mDifference (Complete Only - All Questions):\u001b[39m\u001b[38;5;130;01m\\n\u001b[39;00m\u001b[33m\"\u001b[39m)\n\u001b[32m     23\u001b[39m \u001b[38;5;28;01mfor\u001b[39;00m category \u001b[38;5;129;01min\u001b[39;00m accuracies.keys():\n\u001b[32m---> \u001b[39m\u001b[32m24\u001b[39m     diff = \u001b[43mcomplete_accuracies\u001b[49m\u001b[43m[\u001b[49m\u001b[43mcategory\u001b[49m\u001b[43m]\u001b[49m - accuracies[category]\n\u001b[32m     25\u001b[39m     direction = \u001b[33m\"\u001b[39m\u001b[33mharder\u001b[39m\u001b[33m\"\u001b[39m \u001b[38;5;28;01mif\u001b[39;00m diff < \u001b[32m0\u001b[39m \u001b[38;5;28;01melse\u001b[39;00m \u001b[33m\"\u001b[39m\u001b[33measier\u001b[39m\u001b[33m\"\u001b[39m\n\u001b[32m     26\u001b[39m     \u001b[38;5;28mprint\u001b[39m(\u001b[33mf\u001b[39m\u001b[33m\"\u001b[39m\u001b[33m  \u001b[39m\u001b[38;5;132;01m{\u001b[39;00mcategory\u001b[38;5;132;01m:\u001b[39;00m\u001b[33m35s\u001b[39m\u001b[38;5;132;01m}\u001b[39;00m\u001b[33m: \u001b[39m\u001b[38;5;132;01m{\u001b[39;00mdiff\u001b[38;5;132;01m:\u001b[39;00m\u001b[33m+5.1f\u001b[39m\u001b[38;5;132;01m}\u001b[39;00m\u001b[33m% (complete questions are \u001b[39m\u001b[38;5;132;01m{\u001b[39;00mdirection\u001b[38;5;132;01m}\u001b[39;00m\u001b[33m)\u001b[39m\u001b[33m\"\u001b[39m)\n",
            "\u001b[31mKeyError\u001b[39m: 'Judge After Interactive Debate'"
          ]
        }
      ],
      "source": [
        "# Compare accuracy on questions that ALL categories answered vs ALL questions\n",
        "print(\"\\nAccuracy Comparison: Complete Questions Only vs All Questions\\n\")\n",
        "print(\"=\"*80)\n",
        "\n",
        "# For questions answered by all 4 categories\n",
        "complete_df = df[all_answered]\n",
        "complete_accuracies = {\n",
        "    'Debater Direct QA': (complete_df['debater_direct_correct'].sum() / len(complete_df) * 100),\n",
        "    'Judge Direct QA': (complete_df['judge_direct_correct'].sum() / len(complete_df) * 100),\n",
        "    'Interactive Debate': (complete_df['interactive_judge_after_debate_correct'].sum() / len(complete_df) * 100),\n",
        "    'Non-Interactive Debate': (complete_df['non_interactive_judge_after_debate_correct'].sum() / len(complete_df) * 100)\n",
        "}\n",
        "\n",
        "print(f\"On {len(complete_df)} questions answered by ALL categories:\\n\")\n",
        "for category, acc in complete_accuracies.items():\n",
        "    print(f\"  {category:35s}: {acc:5.1f}%\")\n",
        "\n",
        "print(f\"\\nOn ALL questions (with valid answers per category):\\n\")\n",
        "for category, acc in accuracies.items():\n",
        "    print(f\"  {category:35s}: {acc:5.1f}%\")\n",
        "\n",
        "print(f\"\\nDifference (Complete Only - All Questions):\\n\")\n",
        "for category in accuracies.keys():\n",
        "    diff = complete_accuracies[category] - accuracies[category]\n",
        "    direction = \"harder\" if diff < 0 else \"easier\"\n",
        "    print(f\"  {category:35s}: {diff:+5.1f}% (complete questions are {direction})\")\n",
        "\n",
        "print(\"=\"*80)\n"
      ]
    },
    {
      "cell_type": "code",
      "execution_count": null,
      "metadata": {},
      "outputs": [],
      "source": [
        "# Show accuracy for each category on rows where ONLY that category has valid data\n",
        "print(\"\\nAccuracy on Questions Unique to Each Category:\\n\")\n",
        "print(\"=\"*80)\n",
        "\n",
        "categories_data = [\n",
        "    ('Debater Direct QA', 'debater_direct_correct', has_debater),\n",
        "    ('Judge Direct QA', 'judge_direct_correct', has_judge),\n",
        "    ('Interactive Debate', 'interactive_judge_after_debate_correct', has_interactive),\n",
        "    ('Non-Interactive Debate', 'non_interactive_judge_after_debate_correct', has_non_interactive)\n",
        "]\n",
        "\n",
        "for label, col, has_data in categories_data:\n",
        "    # Questions where THIS category has data but at least one OTHER doesn't\n",
        "    unique_questions = has_data & (~all_answered)\n",
        "    if unique_questions.sum() > 0:\n",
        "        unique_df = df[unique_questions]\n",
        "        unique_acc = unique_df[col].sum() / len(unique_df) * 100\n",
        "        print(f\"{label:35s}: {unique_acc:5.1f}% accuracy on {unique_questions.sum()} questions with incomplete data\")\n",
        "    else:\n",
        "        print(f\"{label:35s}: No questions unique to this category\")\n",
        "\n",
        "print(\"=\"*80)\n"
      ]
    },
    {
      "cell_type": "code",
      "execution_count": null,
      "metadata": {},
      "outputs": [],
      "source": [
        "# Show correct/incorrect counts for each category (only on rows with valid answers)\n",
        "print(\"\\nCorrect vs Incorrect Breakdown (Valid Answers Only):\\n\")\n",
        "print(\"=\"*80)\n",
        "\n",
        "categories_breakdown = [\n",
        "    ('Debater Direct QA', 'debater_direct_correct'),\n",
        "    ('Judge Direct QA', 'judge_direct_correct'),\n",
        "    ('Interactive Debate', 'interactive_judge_after_debate_correct'),\n",
        "    ('Non-Interactive Debate', 'non_interactive_judge_after_debate_correct')\n",
        "]\n",
        "\n",
        "for label, col in categories_breakdown:\n",
        "    valid_data = df[col].notna()\n",
        "    correct_count = (df[valid_data][col] == True).sum()\n",
        "    incorrect_count = (df[valid_data][col] == False).sum()\n",
        "    total = correct_count + incorrect_count\n",
        "    \n",
        "    print(f\"\\n{label}:\")\n",
        "    print(f\"  Correct  : {correct_count:3d} / {total:3d} ({correct_count/total*100:5.1f}%)\")\n",
        "    print(f\"  Incorrect: {incorrect_count:3d} / {total:3d} ({incorrect_count/total*100:5.1f}%)\")\n",
        "\n",
        "print(\"\\n\" + \"=\"*80)\n"
      ]
    },
    {
      "cell_type": "code",
      "execution_count": 22,
      "metadata": {},
      "outputs": [
        {
          "name": "stdout",
          "output_type": "stream",
          "text": [
            "\n",
            "Average Debate Turns:\n",
            "\n",
            "============================================================\n",
            "Interactive Debates                     : 4.5 turns (n=100)\n",
            "Non-Interactive Debates                 : 4.0 turns (n=100)\n",
            "============================================================\n"
          ]
        }
      ],
      "source": [
        "# Compare debate turns with counts\n",
        "print(\"\\nAverage Debate Turns:\\n\")\n",
        "print(\"=\"*60)\n",
        "\n",
        "interactive_count = df['interactive_debate_turns'].notna().sum()\n",
        "non_interactive_count = df['non_interactive_debate_turns'].notna().sum()\n",
        "\n",
        "print(f\"{'Interactive Debates':40s}: {df['interactive_debate_turns'].mean():.1f} turns (n={interactive_count})\")\n",
        "print(f\"{'Non-Interactive Debates':40s}: {df['non_interactive_debate_turns'].mean():.1f} turns (n={non_interactive_count})\")\n",
        "print(\"=\"*60)\n"
      ]
    },
    {
      "cell_type": "code",
      "execution_count": null,
      "metadata": {},
      "outputs": [],
      "source": []
    },
    {
      "cell_type": "code",
      "execution_count": null,
      "metadata": {},
      "outputs": [],
      "source": []
    },
    {
      "cell_type": "code",
      "execution_count": null,
      "metadata": {},
      "outputs": [],
      "source": []
    },
    {
      "cell_type": "code",
      "execution_count": null,
      "metadata": {},
      "outputs": [],
      "source": []
    }
  ],
  "metadata": {
    "kernelspec": {
      "display_name": "llm_judge_debate",
      "language": "python",
      "name": "python3"
    },
    "language_info": {
      "codemirror_mode": {
        "name": "ipython",
        "version": 3
      },
      "file_extension": ".py",
      "mimetype": "text/x-python",
      "name": "python",
      "nbconvert_exporter": "python",
      "pygments_lexer": "ipython3",
      "version": "3.11.13"
    }
  },
  "nbformat": 4,
  "nbformat_minor": 2
}
