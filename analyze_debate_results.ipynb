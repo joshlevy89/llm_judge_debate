{
  "cells": [
    {
      "cell_type": "markdown",
      "metadata": {},
      "source": [
        "# Debate Results Analysis\n",
        "\n",
        "Comparing accuracy across three conditions:\n",
        "1. **Debater Direct**: Debater LLM answers directly\n",
        "2. **Judge Direct**: Judge LLM answers directly\n",
        "3. **Debate**\n"
      ]
    },
    {
      "cell_type": "code",
      "execution_count": 34,
      "metadata": {},
      "outputs": [],
      "source": [
        "import json\n",
        "import pandas as pd"
      ]
    },
    {
      "cell_type": "code",
      "execution_count": 208,
      "metadata": {},
      "outputs": [
        {
          "data": {
            "text/html": [
              "<div>\n",
              "<style scoped>\n",
              "    .dataframe tbody tr th:only-of-type {\n",
              "        vertical-align: middle;\n",
              "    }\n",
              "\n",
              "    .dataframe tbody tr th {\n",
              "        vertical-align: top;\n",
              "    }\n",
              "\n",
              "    .dataframe thead th {\n",
              "        text-align: right;\n",
              "    }\n",
              "</style>\n",
              "<table border=\"1\" class=\"dataframe\">\n",
              "  <thead>\n",
              "    <tr style=\"text-align: right;\">\n",
              "      <th></th>\n",
              "      <th>run_id</th>\n",
              "      <th>timestamp</th>\n",
              "      <th>question.question_idx</th>\n",
              "      <th>question.choices_selected</th>\n",
              "      <th>question.choice_values</th>\n",
              "      <th>question.is_correct</th>\n",
              "      <th>question.dataset_name</th>\n",
              "      <th>question.dataset_subset</th>\n",
              "      <th>question.dataset_split</th>\n",
              "      <th>debater_direct.correct</th>\n",
              "      <th>debater_direct.confidence</th>\n",
              "      <th>debater_direct.cached</th>\n",
              "      <th>judge_direct.correct</th>\n",
              "      <th>judge_direct.confidence</th>\n",
              "      <th>judge_direct.cached</th>\n",
              "      <th>modes.interactive.turns</th>\n",
              "      <th>modes.interactive.winner</th>\n",
              "      <th>modes.interactive.correct</th>\n",
              "      <th>modes.interactive.confidence</th>\n",
              "    </tr>\n",
              "  </thead>\n",
              "  <tbody>\n",
              "    <tr>\n",
              "      <th>0</th>\n",
              "      <td>d6cbd6b0</td>\n",
              "      <td>1970-08-23 09:17:01.094536</td>\n",
              "      <td>189</td>\n",
              "      <td>[1, 0]</td>\n",
              "      <td>[2, 5, 1, 4 and 3, 5, 2, 1, 3 and 4]</td>\n",
              "      <td>[False, True]</td>\n",
              "      <td>Idavidrein/gpqa</td>\n",
              "      <td>gpqa_diamond</td>\n",
              "      <td>train</td>\n",
              "      <td>True</td>\n",
              "      <td>100.0</td>\n",
              "      <td>True</td>\n",
              "      <td>True</td>\n",
              "      <td>100</td>\n",
              "      <td>True</td>\n",
              "      <td>5.0</td>\n",
              "      <td>B</td>\n",
              "      <td>True</td>\n",
              "      <td>80.0</td>\n",
              "    </tr>\n",
              "    <tr>\n",
              "      <th>1</th>\n",
              "      <td>d0bbbd49</td>\n",
              "      <td>1970-08-23 09:17:01.094720</td>\n",
              "      <td>28</td>\n",
              "      <td>[0, 1]</td>\n",
              "      <td>[Mutant 2, Mutant 3]</td>\n",
              "      <td>[True, False]</td>\n",
              "      <td>Idavidrein/gpqa</td>\n",
              "      <td>gpqa_diamond</td>\n",
              "      <td>train</td>\n",
              "      <td>True</td>\n",
              "      <td>100.0</td>\n",
              "      <td>True</td>\n",
              "      <td>False</td>\n",
              "      <td>90</td>\n",
              "      <td>True</td>\n",
              "      <td>5.0</td>\n",
              "      <td>A</td>\n",
              "      <td>True</td>\n",
              "      <td>80.0</td>\n",
              "    </tr>\n",
              "    <tr>\n",
              "      <th>2</th>\n",
              "      <td>a58627ad</td>\n",
              "      <td>1970-08-23 09:17:01.094729</td>\n",
              "      <td>39</td>\n",
              "      <td>[0, 3]</td>\n",
              "      <td>[The compounds they are working with have simi...</td>\n",
              "      <td>[True, False]</td>\n",
              "      <td>Idavidrein/gpqa</td>\n",
              "      <td>gpqa_diamond</td>\n",
              "      <td>train</td>\n",
              "      <td>True</td>\n",
              "      <td>100.0</td>\n",
              "      <td>True</td>\n",
              "      <td>True</td>\n",
              "      <td>80</td>\n",
              "      <td>True</td>\n",
              "      <td>4.0</td>\n",
              "      <td>B</td>\n",
              "      <td>False</td>\n",
              "      <td>80.0</td>\n",
              "    </tr>\n",
              "    <tr>\n",
              "      <th>3</th>\n",
              "      <td>97da7513</td>\n",
              "      <td>1970-08-23 09:17:01.094731</td>\n",
              "      <td>137</td>\n",
              "      <td>[1, 0]</td>\n",
              "      <td>[The increased pressure of the solution, The i...</td>\n",
              "      <td>[False, True]</td>\n",
              "      <td>Idavidrein/gpqa</td>\n",
              "      <td>gpqa_diamond</td>\n",
              "      <td>train</td>\n",
              "      <td>True</td>\n",
              "      <td>95.0</td>\n",
              "      <td>True</td>\n",
              "      <td>True</td>\n",
              "      <td>90</td>\n",
              "      <td>True</td>\n",
              "      <td>4.0</td>\n",
              "      <td>B</td>\n",
              "      <td>True</td>\n",
              "      <td>90.0</td>\n",
              "    </tr>\n",
              "    <tr>\n",
              "      <th>4</th>\n",
              "      <td>f7f755c4</td>\n",
              "      <td>1970-08-23 09:17:01.094743</td>\n",
              "      <td>87</td>\n",
              "      <td>[0, 3]</td>\n",
              "      <td>[somatic hypermutation, complement activation]</td>\n",
              "      <td>[True, False]</td>\n",
              "      <td>Idavidrein/gpqa</td>\n",
              "      <td>gpqa_diamond</td>\n",
              "      <td>train</td>\n",
              "      <td>True</td>\n",
              "      <td>100.0</td>\n",
              "      <td>True</td>\n",
              "      <td>True</td>\n",
              "      <td>80</td>\n",
              "      <td>True</td>\n",
              "      <td>4.0</td>\n",
              "      <td>A</td>\n",
              "      <td>True</td>\n",
              "      <td>80.0</td>\n",
              "    </tr>\n",
              "  </tbody>\n",
              "</table>\n",
              "</div>"
            ],
            "text/plain": [
              "     run_id                  timestamp  question.question_idx  \\\n",
              "0  d6cbd6b0 1970-08-23 09:17:01.094536                    189   \n",
              "1  d0bbbd49 1970-08-23 09:17:01.094720                     28   \n",
              "2  a58627ad 1970-08-23 09:17:01.094729                     39   \n",
              "3  97da7513 1970-08-23 09:17:01.094731                    137   \n",
              "4  f7f755c4 1970-08-23 09:17:01.094743                     87   \n",
              "\n",
              "  question.choices_selected  \\\n",
              "0                    [1, 0]   \n",
              "1                    [0, 1]   \n",
              "2                    [0, 3]   \n",
              "3                    [1, 0]   \n",
              "4                    [0, 3]   \n",
              "\n",
              "                              question.choice_values question.is_correct  \\\n",
              "0               [2, 5, 1, 4 and 3, 5, 2, 1, 3 and 4]       [False, True]   \n",
              "1                               [Mutant 2, Mutant 3]       [True, False]   \n",
              "2  [The compounds they are working with have simi...       [True, False]   \n",
              "3  [The increased pressure of the solution, The i...       [False, True]   \n",
              "4     [somatic hypermutation, complement activation]       [True, False]   \n",
              "\n",
              "  question.dataset_name question.dataset_subset question.dataset_split  \\\n",
              "0       Idavidrein/gpqa            gpqa_diamond                  train   \n",
              "1       Idavidrein/gpqa            gpqa_diamond                  train   \n",
              "2       Idavidrein/gpqa            gpqa_diamond                  train   \n",
              "3       Idavidrein/gpqa            gpqa_diamond                  train   \n",
              "4       Idavidrein/gpqa            gpqa_diamond                  train   \n",
              "\n",
              "  debater_direct.correct  debater_direct.confidence  debater_direct.cached  \\\n",
              "0                   True                      100.0                   True   \n",
              "1                   True                      100.0                   True   \n",
              "2                   True                      100.0                   True   \n",
              "3                   True                       95.0                   True   \n",
              "4                   True                      100.0                   True   \n",
              "\n",
              "   judge_direct.correct  judge_direct.confidence  judge_direct.cached  \\\n",
              "0                  True                      100                 True   \n",
              "1                 False                       90                 True   \n",
              "2                  True                       80                 True   \n",
              "3                  True                       90                 True   \n",
              "4                  True                       80                 True   \n",
              "\n",
              "   modes.interactive.turns modes.interactive.winner modes.interactive.correct  \\\n",
              "0                      5.0                        B                      True   \n",
              "1                      5.0                        A                      True   \n",
              "2                      4.0                        B                     False   \n",
              "3                      4.0                        B                      True   \n",
              "4                      4.0                        A                      True   \n",
              "\n",
              "   modes.interactive.confidence  \n",
              "0                          80.0  \n",
              "1                          80.0  \n",
              "2                          80.0  \n",
              "3                          90.0  \n",
              "4                          80.0  "
            ]
          },
          "execution_count": 208,
          "metadata": {},
          "output_type": "execute_result"
        }
      ],
      "source": [
        "# results_file = 'parallel_debate_runs/run_20251020_131736/master_results.jsonl'\n",
        "# results_file = 'parallel_debate_runs/run_20251020_135407/master_results.jsonl'\n",
        "# results_file = 'parallel_debate_runs/run_20251020_141121/master_results.jsonl'\n",
        "# results_file = 'parallel_debate_runs/run_20251021_074342/master_results.jsonl'\n",
        "# results_file = 'parallel_debate_runs/run_20251021_080557/master_results.jsonl'\n",
        "# results_file = 'parallel_debate_runs/run_20251021_091635/master_results.jsonl'\n",
        "# results_file = 'parallel_debate_runs/run_20251021_093704/master_results.jsonl'\n",
        "results_file = 'parallel_debate_runs/run_20251021_094113/master_results.jsonl'\n",
        "\n",
        "results_df = pd.json_normalize(pd.read_json(results_file, lines=True).to_dict('records'))\n",
        "results_df.head()"
      ]
    },
    {
      "cell_type": "code",
      "execution_count": 209,
      "metadata": {},
      "outputs": [
        {
          "data": {
            "text/html": [
              "<div>\n",
              "<style scoped>\n",
              "    .dataframe tbody tr th:only-of-type {\n",
              "        vertical-align: middle;\n",
              "    }\n",
              "\n",
              "    .dataframe tbody tr th {\n",
              "        vertical-align: top;\n",
              "    }\n",
              "\n",
              "    .dataframe thead th {\n",
              "        text-align: right;\n",
              "    }\n",
              "</style>\n",
              "<table border=\"1\" class=\"dataframe\">\n",
              "  <thead>\n",
              "    <tr style=\"text-align: right;\">\n",
              "      <th></th>\n",
              "      <th>accuracy</th>\n",
              "      <th>total_count</th>\n",
              "    </tr>\n",
              "  </thead>\n",
              "  <tbody>\n",
              "    <tr>\n",
              "      <th>debater_direct.correct</th>\n",
              "      <td>0.876404</td>\n",
              "      <td>89</td>\n",
              "    </tr>\n",
              "    <tr>\n",
              "      <th>judge_direct.correct</th>\n",
              "      <td>0.56</td>\n",
              "      <td>100</td>\n",
              "    </tr>\n",
              "    <tr>\n",
              "      <th>modes.interactive.correct</th>\n",
              "      <td>0.613636</td>\n",
              "      <td>88</td>\n",
              "    </tr>\n",
              "  </tbody>\n",
              "</table>\n",
              "</div>"
            ],
            "text/plain": [
              "                           accuracy  total_count\n",
              "debater_direct.correct     0.876404           89\n",
              "judge_direct.correct           0.56          100\n",
              "modes.interactive.correct  0.613636           88"
            ]
          },
          "execution_count": 209,
          "metadata": {},
          "output_type": "execute_result"
        }
      ],
      "source": [
        "correct_cols = results_df.filter(like='correct').drop(columns='question.is_correct')\n",
        "accuracies = pd.DataFrame({\n",
        "    'accuracy': correct_cols.mean(),\n",
        "    'total_count': correct_cols.count()\n",
        "})\n",
        "accuracies"
      ]
    },
    {
      "cell_type": "code",
      "execution_count": 210,
      "metadata": {},
      "outputs": [
        {
          "data": {
            "image/png": "[encoded data removed]",
            "text/plain": [
              "<Figure size 640x480 with 1 Axes>"
            ]
          },
          "metadata": {},
          "output_type": "display_data"
        }
      ],
      "source": [
        "from matplotlib import pyplot as plt\n",
        "ax = accuracies['accuracy'].plot.bar(color=plt.cm.tab10.colors, ylim=(0, 1))\n",
        "ax.set_xticklabels(ax.get_xticklabels(), rotation=45, ha='right')\n",
        "for bar, (idx, row) in zip(ax.patches, accuracies.iterrows()):\n",
        "    ax.text(bar.get_x() + bar.get_width()/2, bar.get_height() + 0.02, \n",
        "            f'{row[\"accuracy\"]:.2f} (n={int(row[\"total_count\"])})', \n",
        "            ha='center', va='bottom')\n",
        "plt.tight_layout()\n",
        "plt.title(results_file)\n",
        "plt.show()"
      ]
    },
    {
      "cell_type": "code",
      "execution_count": 211,
      "metadata": {},
      "outputs": [
        {
          "data": {
            "text/plain": [
              "modes.interactive.turns\n",
              "4.0    35\n",
              "5.0    31\n",
              "6.0    13\n",
              "7.0     6\n",
              "3.0     3\n",
              "Name: count, dtype: int64"
            ]
          },
          "execution_count": 211,
          "metadata": {},
          "output_type": "execute_result"
        }
      ],
      "source": [
        "mode_prefix = 'modes.interactive'\n",
        "\n",
        "results_df[f'{mode_prefix}.turns'].value_counts()\n"
      ]
    },
    {
      "cell_type": "code",
      "execution_count": 212,
      "metadata": {},
      "outputs": [
        {
          "data": {
            "text/plain": [
              "count    54.000000\n",
              "mean      4.796296\n",
              "std       0.978633\n",
              "min       3.000000\n",
              "25%       4.000000\n",
              "50%       5.000000\n",
              "75%       5.000000\n",
              "max       7.000000\n",
              "Name: modes.interactive.turns, dtype: float64"
            ]
          },
          "execution_count": 212,
          "metadata": {},
          "output_type": "execute_result"
        }
      ],
      "source": [
        "# Get the non interactive turns on correct vs incorrect debater answers\n",
        "results_df[results_df[f'{mode_prefix}.correct'] == True][f'{mode_prefix}.turns'].describe()"
      ]
    },
    {
      "cell_type": "code",
      "execution_count": 213,
      "metadata": {},
      "outputs": [
        {
          "data": {
            "text/plain": [
              "count    34.000000\n",
              "mean      4.852941\n",
              "std       0.957660\n",
              "min       3.000000\n",
              "25%       4.000000\n",
              "50%       5.000000\n",
              "75%       5.000000\n",
              "max       7.000000\n",
              "Name: modes.interactive.turns, dtype: float64"
            ]
          },
          "execution_count": 213,
          "metadata": {},
          "output_type": "execute_result"
        }
      ],
      "source": [
        "\n",
        "results_df[results_df[f'{mode_prefix}.correct'] == False][f'{mode_prefix}.turns'].describe()"
      ]
    },
    {
      "cell_type": "code",
      "execution_count": 214,
      "metadata": {},
      "outputs": [
        {
          "data": {
            "image/png": "[encoded data removed]",
            "text/plain": [
              "<Figure size 400x664 with 1 Axes>"
            ]
          },
          "metadata": {},
          "output_type": "display_data"
        }
      ],
      "source": [
        "import matplotlib.pyplot as plt\n",
        "import numpy as np\n",
        "\n",
        "data = results_df[['debater_direct.correct', 'judge_direct.correct', f'{mode_prefix}.correct']].dropna().astype(float).values\n",
        "fig, ax = plt.subplots(figsize=(4, max(6, len(data) * 0.08)))\n",
        "im = ax.imshow(data, aspect='auto', cmap='RdYlGn', vmin=0, vmax=1, interpolation='nearest')\n",
        "ax.set_xticks([0, 1, 2])\n",
        "ax.set_xticklabels(['Debater QA', 'Judge QA', 'Debate'])\n",
        "ax.set_ylabel('Sample')\n",
        "ax.set_yticks([0, len(data)-1])\n",
        "ax.set_yticklabels([1, len(data)])\n",
        "plt.tight_layout()\n",
        "plt.show()\n"
      ]
    },
    {
      "cell_type": "code",
      "execution_count": 215,
      "metadata": {},
      "outputs": [
        {
          "data": {
            "text/plain": [
              "modes.interactive.winner\n",
              "A    48\n",
              "B    40\n",
              "Name: count, dtype: int64"
            ]
          },
          "execution_count": 215,
          "metadata": {},
          "output_type": "execute_result"
        }
      ],
      "source": [
        "results_df[f'{mode_prefix}.winner'].value_counts()"
      ]
    },
    {
      "cell_type": "code",
      "execution_count": 216,
      "metadata": {},
      "outputs": [
        {
          "data": {
            "text/html": [
              "<div>\n",
              "<style scoped>\n",
              "    .dataframe tbody tr th:only-of-type {\n",
              "        vertical-align: middle;\n",
              "    }\n",
              "\n",
              "    .dataframe tbody tr th {\n",
              "        vertical-align: top;\n",
              "    }\n",
              "\n",
              "    .dataframe thead th {\n",
              "        text-align: right;\n",
              "    }\n",
              "</style>\n",
              "<table border=\"1\" class=\"dataframe\">\n",
              "  <thead>\n",
              "    <tr style=\"text-align: right;\">\n",
              "      <th>Correct</th>\n",
              "      <th>False</th>\n",
              "      <th>True</th>\n",
              "    </tr>\n",
              "    <tr>\n",
              "      <th>Winner</th>\n",
              "      <th></th>\n",
              "      <th></th>\n",
              "    </tr>\n",
              "  </thead>\n",
              "  <tbody>\n",
              "    <tr>\n",
              "      <th>A</th>\n",
              "      <td>18</td>\n",
              "      <td>30</td>\n",
              "    </tr>\n",
              "    <tr>\n",
              "      <th>B</th>\n",
              "      <td>16</td>\n",
              "      <td>24</td>\n",
              "    </tr>\n",
              "  </tbody>\n",
              "</table>\n",
              "</div>"
            ],
            "text/plain": [
              "Correct  False  True \n",
              "Winner               \n",
              "A           18     30\n",
              "B           16     24"
            ]
          },
          "execution_count": 216,
          "metadata": {},
          "output_type": "execute_result"
        }
      ],
      "source": [
        "pd.crosstab(results_df[f'{mode_prefix}.winner'], results_df[f'{mode_prefix}.correct'], rownames=['Winner'], colnames=['Correct'])"
      ]
    },
    {
      "cell_type": "code",
      "execution_count": null,
      "metadata": {},
      "outputs": [],
      "source": []
    }
  ],
  "metadata": {
    "kernelspec": {
      "display_name": "llm_judge_debate",
      "language": "python",
      "name": "python3"
    },
    "language_info": {
      "codemirror_mode": {
        "name": "ipython",
        "version": 3
      },
      "file_extension": ".py",
      "mimetype": "text/x-python",
      "name": "python",
      "nbconvert_exporter": "python",
      "pygments_lexer": "ipython3",
      "version": "3.11.13"
    }
  },
  "nbformat": 4,
  "nbformat_minor": 2
}
