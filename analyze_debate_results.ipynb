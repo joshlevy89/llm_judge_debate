{
  "cells": [
    {
      "cell_type": "markdown",
      "metadata": {},
      "source": [
        "# Debate Results Analysis\n",
        "\n",
        "Comparing accuracy across three conditions:\n",
        "1. **Debater Direct**: Debater LLM answers directly\n",
        "2. **Judge Direct**: Judge LLM answers directly\n",
        "3. **Debate**\n"
      ]
    },
    {
      "cell_type": "code",
      "execution_count": 300,
      "metadata": {},
      "outputs": [],
      "source": [
        "import json\n",
        "import pandas as pd\n",
        "import matplotlib.pyplot as plt\n",
        "import numpy as np"
      ]
    },
    {
      "cell_type": "code",
      "execution_count": 355,
      "metadata": {},
      "outputs": [
        {
          "data": {
            "text/html": [
              "<div>\n",
              "<style scoped>\n",
              "    .dataframe tbody tr th:only-of-type {\n",
              "        vertical-align: middle;\n",
              "    }\n",
              "\n",
              "    .dataframe tbody tr th {\n",
              "        vertical-align: top;\n",
              "    }\n",
              "\n",
              "    .dataframe thead th {\n",
              "        text-align: right;\n",
              "    }\n",
              "</style>\n",
              "<table border=\"1\" class=\"dataframe\">\n",
              "  <thead>\n",
              "    <tr style=\"text-align: right;\">\n",
              "      <th></th>\n",
              "      <th>run_id</th>\n",
              "      <th>timestamp</th>\n",
              "      <th>question.question_idx</th>\n",
              "      <th>question.choices_selected</th>\n",
              "      <th>question.choice_values</th>\n",
              "      <th>question.is_correct</th>\n",
              "      <th>question.dataset_name</th>\n",
              "      <th>question.dataset_subset</th>\n",
              "      <th>question.dataset_split</th>\n",
              "      <th>debater_direct.correct</th>\n",
              "      <th>debater_direct.confidence</th>\n",
              "      <th>debater_direct.cached</th>\n",
              "      <th>judge_direct.correct</th>\n",
              "      <th>judge_direct.confidence</th>\n",
              "      <th>judge_direct.cached</th>\n",
              "      <th>modes.non_interactive.turns</th>\n",
              "      <th>modes.non_interactive.winner</th>\n",
              "      <th>modes.non_interactive.correct</th>\n",
              "      <th>modes.non_interactive.confidence</th>\n",
              "    </tr>\n",
              "  </thead>\n",
              "  <tbody>\n",
              "    <tr>\n",
              "      <th>0</th>\n",
              "      <td>808e1f71</td>\n",
              "      <td>1970-08-23 09:17:02.142642</td>\n",
              "      <td>302</td>\n",
              "      <td>[0, 2]</td>\n",
              "      <td>[In silico testing of drug interaction with th...</td>\n",
              "      <td>[True, False]</td>\n",
              "      <td>Idavidrein/gpqa</td>\n",
              "      <td>gpqa_main</td>\n",
              "      <td>train</td>\n",
              "      <td>True</td>\n",
              "      <td>100.0</td>\n",
              "      <td>True</td>\n",
              "      <td>True</td>\n",
              "      <td>80</td>\n",
              "      <td>False</td>\n",
              "      <td>4.0</td>\n",
              "      <td>B</td>\n",
              "      <td>False</td>\n",
              "      <td>80.0</td>\n",
              "    </tr>\n",
              "    <tr>\n",
              "      <th>1</th>\n",
              "      <td>cf5b14ab</td>\n",
              "      <td>1970-08-23 09:17:02.142643</td>\n",
              "      <td>366</td>\n",
              "      <td>[0, 3]</td>\n",
              "      <td>[The increased pH of the solution, The increas...</td>\n",
              "      <td>[True, False]</td>\n",
              "      <td>Idavidrein/gpqa</td>\n",
              "      <td>gpqa_main</td>\n",
              "      <td>train</td>\n",
              "      <td>True</td>\n",
              "      <td>95.0</td>\n",
              "      <td>True</td>\n",
              "      <td>True</td>\n",
              "      <td>80</td>\n",
              "      <td>False</td>\n",
              "      <td>3.0</td>\n",
              "      <td>A</td>\n",
              "      <td>True</td>\n",
              "      <td>80.0</td>\n",
              "    </tr>\n",
              "    <tr>\n",
              "      <th>2</th>\n",
              "      <td>18803ce8</td>\n",
              "      <td>1970-08-23 09:17:02.142644</td>\n",
              "      <td>79</td>\n",
              "      <td>[1, 0]</td>\n",
              "      <td>[A three-body bound state may occur sometimes,...</td>\n",
              "      <td>[False, True]</td>\n",
              "      <td>Idavidrein/gpqa</td>\n",
              "      <td>gpqa_main</td>\n",
              "      <td>train</td>\n",
              "      <td>True</td>\n",
              "      <td>100.0</td>\n",
              "      <td>True</td>\n",
              "      <td>False</td>\n",
              "      <td>80</td>\n",
              "      <td>False</td>\n",
              "      <td>4.0</td>\n",
              "      <td>B</td>\n",
              "      <td>True</td>\n",
              "      <td>80.0</td>\n",
              "    </tr>\n",
              "    <tr>\n",
              "      <th>3</th>\n",
              "      <td>d6f02d53</td>\n",
              "      <td>1970-08-23 09:17:02.142644</td>\n",
              "      <td>47</td>\n",
              "      <td>[0, 1]</td>\n",
              "      <td>[Polycomb complexes are involved in mediating ...</td>\n",
              "      <td>[True, False]</td>\n",
              "      <td>Idavidrein/gpqa</td>\n",
              "      <td>gpqa_main</td>\n",
              "      <td>train</td>\n",
              "      <td>False</td>\n",
              "      <td>95.0</td>\n",
              "      <td>True</td>\n",
              "      <td>True</td>\n",
              "      <td>80</td>\n",
              "      <td>False</td>\n",
              "      <td>4.0</td>\n",
              "      <td>B</td>\n",
              "      <td>False</td>\n",
              "      <td>80.0</td>\n",
              "    </tr>\n",
              "    <tr>\n",
              "      <th>4</th>\n",
              "      <td>e2dabfbb</td>\n",
              "      <td>1970-08-23 09:17:02.142646</td>\n",
              "      <td>282</td>\n",
              "      <td>[3, 0]</td>\n",
              "      <td>[Oxidative stress &gt; Endothelial dysfunction, E...</td>\n",
              "      <td>[False, True]</td>\n",
              "      <td>Idavidrein/gpqa</td>\n",
              "      <td>gpqa_main</td>\n",
              "      <td>train</td>\n",
              "      <td>False</td>\n",
              "      <td>95.0</td>\n",
              "      <td>True</td>\n",
              "      <td>False</td>\n",
              "      <td>80</td>\n",
              "      <td>False</td>\n",
              "      <td>4.0</td>\n",
              "      <td>B</td>\n",
              "      <td>True</td>\n",
              "      <td>70.0</td>\n",
              "    </tr>\n",
              "  </tbody>\n",
              "</table>\n",
              "</div>"
            ],
            "text/plain": [
              "     run_id                  timestamp  question.question_idx  \\\n",
              "0  808e1f71 1970-08-23 09:17:02.142642                    302   \n",
              "1  cf5b14ab 1970-08-23 09:17:02.142643                    366   \n",
              "2  18803ce8 1970-08-23 09:17:02.142644                     79   \n",
              "3  d6f02d53 1970-08-23 09:17:02.142644                     47   \n",
              "4  e2dabfbb 1970-08-23 09:17:02.142646                    282   \n",
              "\n",
              "  question.choices_selected  \\\n",
              "0                    [0, 2]   \n",
              "1                    [0, 3]   \n",
              "2                    [1, 0]   \n",
              "3                    [0, 1]   \n",
              "4                    [3, 0]   \n",
              "\n",
              "                              question.choice_values question.is_correct  \\\n",
              "0  [In silico testing of drug interaction with th...       [True, False]   \n",
              "1  [The increased pH of the solution, The increas...       [True, False]   \n",
              "2  [A three-body bound state may occur sometimes,...       [False, True]   \n",
              "3  [Polycomb complexes are involved in mediating ...       [True, False]   \n",
              "4  [Oxidative stress > Endothelial dysfunction, E...       [False, True]   \n",
              "\n",
              "  question.dataset_name question.dataset_subset question.dataset_split  \\\n",
              "0       Idavidrein/gpqa               gpqa_main                  train   \n",
              "1       Idavidrein/gpqa               gpqa_main                  train   \n",
              "2       Idavidrein/gpqa               gpqa_main                  train   \n",
              "3       Idavidrein/gpqa               gpqa_main                  train   \n",
              "4       Idavidrein/gpqa               gpqa_main                  train   \n",
              "\n",
              "  debater_direct.correct  debater_direct.confidence  debater_direct.cached  \\\n",
              "0                   True                      100.0                   True   \n",
              "1                   True                       95.0                   True   \n",
              "2                   True                      100.0                   True   \n",
              "3                  False                       95.0                   True   \n",
              "4                  False                       95.0                   True   \n",
              "\n",
              "   judge_direct.correct  judge_direct.confidence  judge_direct.cached  \\\n",
              "0                  True                       80                False   \n",
              "1                  True                       80                False   \n",
              "2                 False                       80                False   \n",
              "3                  True                       80                False   \n",
              "4                 False                       80                False   \n",
              "\n",
              "   modes.non_interactive.turns modes.non_interactive.winner  \\\n",
              "0                          4.0                            B   \n",
              "1                          3.0                            A   \n",
              "2                          4.0                            B   \n",
              "3                          4.0                            B   \n",
              "4                          4.0                            B   \n",
              "\n",
              "  modes.non_interactive.correct  modes.non_interactive.confidence  \n",
              "0                         False                              80.0  \n",
              "1                          True                              80.0  \n",
              "2                          True                              80.0  \n",
              "3                         False                              80.0  \n",
              "4                          True                              70.0  "
            ]
          },
          "execution_count": 355,
          "metadata": {},
          "output_type": "execute_result"
        }
      ],
      "source": [
        "# results_file = 'parallel_debate_runs/run_20251020_131736/master_results.jsonl'\n",
        "# results_file = 'parallel_debate_runs/run_20251020_135407/master_results.jsonl'\n",
        "# results_file = 'parallel_debate_runs/run_20251020_141121/master_results.jsonl'\n",
        "# results_file = 'parallel_debate_runs/run_20251021_074342/master_results.jsonl'\n",
        "# results_file = 'parallel_debate_runs/run_20251021_080557/master_results.jsonl'\n",
        "# results_file = 'parallel_debate_runs/run_20251021_091635/master_results.jsonl'\n",
        "# results_file = 'parallel_debate_runs/run_20251021_093704/master_results.jsonl'\n",
        "# results_file = 'parallel_debate_runs/run_20251021_094113/master_results.jsonl'\n",
        "# results_file = 'parallel_debate_runs/run_20251021_104033/master_results.jsonl'\n",
        "# results_file = 'parallel_debate_runs/run_20251021_134408/master_results.jsonl'\n",
        "# results_file = 'parallel_debate_runs/run_20251021_142720/master_results.jsonl'\n",
        "# results_file = 'parallel_debate_runs/run_20251021_144301/master_results.jsonl'\n",
        "# results_file = 'parallel_debate_runs/run_20251022_134354/master_results.jsonl'\n",
        "# results_file = 'parallel_debate_runs/run_20251022_134546/master_results.jsonl'\n",
        "# results_file = 'parallel_debate_runs/run_20251022_141028/master_results.jsonl'\n",
        "results_file = 'parallel_debate_runs/run_20251022_142600/master_results.jsonl'\n",
        "\n",
        "results_df = pd.json_normalize(pd.read_json(results_file, lines=True).to_dict('records'))\n",
        "results_df.head()"
      ]
    },
    {
      "cell_type": "code",
      "execution_count": 356,
      "metadata": {},
      "outputs": [
        {
          "data": {
            "text/html": [
              "<div>\n",
              "<style scoped>\n",
              "    .dataframe tbody tr th:only-of-type {\n",
              "        vertical-align: middle;\n",
              "    }\n",
              "\n",
              "    .dataframe tbody tr th {\n",
              "        vertical-align: top;\n",
              "    }\n",
              "\n",
              "    .dataframe thead th {\n",
              "        text-align: right;\n",
              "    }\n",
              "</style>\n",
              "<table border=\"1\" class=\"dataframe\">\n",
              "  <thead>\n",
              "    <tr style=\"text-align: right;\">\n",
              "      <th></th>\n",
              "      <th>accuracy</th>\n",
              "      <th>total_count</th>\n",
              "    </tr>\n",
              "  </thead>\n",
              "  <tbody>\n",
              "    <tr>\n",
              "      <th>debater_direct.correct</th>\n",
              "      <td>0.824176</td>\n",
              "      <td>91</td>\n",
              "    </tr>\n",
              "    <tr>\n",
              "      <th>judge_direct.correct</th>\n",
              "      <td>0.53</td>\n",
              "      <td>100</td>\n",
              "    </tr>\n",
              "    <tr>\n",
              "      <th>modes.non_interactive.correct</th>\n",
              "      <td>0.530612</td>\n",
              "      <td>98</td>\n",
              "    </tr>\n",
              "  </tbody>\n",
              "</table>\n",
              "</div>"
            ],
            "text/plain": [
              "                               accuracy  total_count\n",
              "debater_direct.correct         0.824176           91\n",
              "judge_direct.correct               0.53          100\n",
              "modes.non_interactive.correct  0.530612           98"
            ]
          },
          "execution_count": 356,
          "metadata": {},
          "output_type": "execute_result"
        }
      ],
      "source": [
        "correct_cols = results_df.filter(like='correct').drop(columns='question.is_correct')\n",
        "accuracies = pd.DataFrame({\n",
        "    'accuracy': correct_cols.mean(),\n",
        "    'total_count': correct_cols.count()\n",
        "})\n",
        "accuracies"
      ]
    },
    {
      "cell_type": "code",
      "execution_count": 357,
      "metadata": {},
      "outputs": [
        {
          "data": {
            "image/png": "[encoded data removed]",
            "text/plain": [
              "<Figure size 640x480 with 1 Axes>"
            ]
          },
          "metadata": {},
          "output_type": "display_data"
        }
      ],
      "source": [
        "from matplotlib import pyplot as plt\n",
        "ax = accuracies['accuracy'].plot.bar(color=plt.cm.tab10.colors, ylim=(0, 1))\n",
        "ax.set_xticklabels(ax.get_xticklabels(), rotation=45, ha='right')\n",
        "for bar, (idx, row) in zip(ax.patches, accuracies.iterrows()):\n",
        "    ax.text(bar.get_x() + bar.get_width()/2, bar.get_height() + 0.02, \n",
        "            f'{row[\"accuracy\"]:.2f} (n={int(row[\"total_count\"])})', \n",
        "            ha='center', va='bottom')\n",
        "plt.tight_layout()\n",
        "plt.title(results_file)\n",
        "plt.show()"
      ]
    },
    {
      "cell_type": "code",
      "execution_count": 268,
      "metadata": {},
      "outputs": [
        {
          "data": {
            "text/plain": [
              "modes.non_interactive.turns\n",
              "4    62\n",
              "3    15\n",
              "5    11\n",
              "2     5\n",
              "6     1\n",
              "Name: count, dtype: int64"
            ]
          },
          "execution_count": 268,
          "metadata": {},
          "output_type": "execute_result"
        }
      ],
      "source": [
        "mode_prefix = 'modes.non_interactive'\n",
        "\n",
        "results_df[f'{mode_prefix}.turns'].value_counts()\n"
      ]
    },
    {
      "cell_type": "code",
      "execution_count": 269,
      "metadata": {},
      "outputs": [
        {
          "data": {
            "text/plain": [
              "count    76.000000\n",
              "mean      3.802632\n",
              "std       0.693200\n",
              "min       2.000000\n",
              "25%       4.000000\n",
              "50%       4.000000\n",
              "75%       4.000000\n",
              "max       5.000000\n",
              "Name: modes.non_interactive.turns, dtype: float64"
            ]
          },
          "execution_count": 269,
          "metadata": {},
          "output_type": "execute_result"
        }
      ],
      "source": [
        "# Get the non interactive turns on correct vs incorrect debater answers\n",
        "results_df[results_df[f'{mode_prefix}.correct'] == True][f'{mode_prefix}.turns'].describe()"
      ]
    },
    {
      "cell_type": "code",
      "execution_count": 270,
      "metadata": {},
      "outputs": [
        {
          "data": {
            "text/plain": [
              "count    18.000000\n",
              "mean      4.166667\n",
              "std       0.785905\n",
              "min       3.000000\n",
              "25%       4.000000\n",
              "50%       4.000000\n",
              "75%       4.750000\n",
              "max       6.000000\n",
              "Name: modes.non_interactive.turns, dtype: float64"
            ]
          },
          "execution_count": 270,
          "metadata": {},
          "output_type": "execute_result"
        }
      ],
      "source": [
        "\n",
        "results_df[results_df[f'{mode_prefix}.correct'] == False][f'{mode_prefix}.turns'].describe()"
      ]
    },
    {
      "cell_type": "code",
      "execution_count": 271,
      "metadata": {},
      "outputs": [
        {
          "data": {
            "image/png": "[encoded data removed]",
            "text/plain": [
              "<Figure size 400x696 with 1 Axes>"
            ]
          },
          "metadata": {},
          "output_type": "display_data"
        }
      ],
      "source": [
        "import matplotlib.pyplot as plt\n",
        "import numpy as np\n",
        "\n",
        "data = results_df[['debater_direct.correct', 'judge_direct.correct', f'{mode_prefix}.correct']].dropna().astype(float).values\n",
        "fig, ax = plt.subplots(figsize=(4, max(6, len(data) * 0.08)))\n",
        "im = ax.imshow(data, aspect='auto', cmap='RdYlGn', vmin=0, vmax=1, interpolation='nearest')\n",
        "ax.set_xticks([0, 1, 2])\n",
        "ax.set_xticklabels(['Debater QA', 'Judge QA', 'Debate'])\n",
        "ax.set_ylabel('Sample')\n",
        "ax.set_yticks([0, len(data)-1])\n",
        "ax.set_yticklabels([1, len(data)])\n",
        "plt.tight_layout()\n",
        "plt.show()\n"
      ]
    },
    {
      "cell_type": "code",
      "execution_count": 273,
      "metadata": {},
      "outputs": [
        {
          "data": {
            "text/plain": [
              "debater_direct.correct  judge_direct.correct  modes.non_interactive.correct\n",
              "True                    True                  True                             44\n",
              "                        False                 True                             24\n",
              "                                              False                             5\n",
              "                        True                  False                             4\n",
              "False                   False                 False                             3\n",
              "                                              True                              3\n",
              "                        True                  False                             2\n",
              "                                              True                              2\n",
              "Name: count, dtype: int64"
            ]
          },
          "execution_count": 273,
          "metadata": {},
          "output_type": "execute_result"
        }
      ],
      "source": [
        "results_df[['debater_direct.correct',  'judge_direct.correct', f'{mode_prefix}.correct']].value_counts()"
      ]
    },
    {
      "cell_type": "code",
      "execution_count": 264,
      "metadata": {},
      "outputs": [
        {
          "data": {
            "text/plain": [
              "modes.non_interactive.winner\n",
              "B    53\n",
              "A    42\n",
              "Name: count, dtype: int64"
            ]
          },
          "execution_count": 264,
          "metadata": {},
          "output_type": "execute_result"
        }
      ],
      "source": [
        "results_df[f'{mode_prefix}.winner'].value_counts()"
      ]
    },
    {
      "cell_type": "code",
      "execution_count": 256,
      "metadata": {},
      "outputs": [
        {
          "data": {
            "text/html": [
              "<div>\n",
              "<style scoped>\n",
              "    .dataframe tbody tr th:only-of-type {\n",
              "        vertical-align: middle;\n",
              "    }\n",
              "\n",
              "    .dataframe tbody tr th {\n",
              "        vertical-align: top;\n",
              "    }\n",
              "\n",
              "    .dataframe thead th {\n",
              "        text-align: right;\n",
              "    }\n",
              "</style>\n",
              "<table border=\"1\" class=\"dataframe\">\n",
              "  <thead>\n",
              "    <tr style=\"text-align: right;\">\n",
              "      <th>Correct</th>\n",
              "      <th>False</th>\n",
              "      <th>True</th>\n",
              "    </tr>\n",
              "    <tr>\n",
              "      <th>Winner</th>\n",
              "      <th></th>\n",
              "      <th></th>\n",
              "    </tr>\n",
              "  </thead>\n",
              "  <tbody>\n",
              "    <tr>\n",
              "      <th>A</th>\n",
              "      <td>13</td>\n",
              "      <td>41</td>\n",
              "    </tr>\n",
              "    <tr>\n",
              "      <th>B</th>\n",
              "      <td>12</td>\n",
              "      <td>34</td>\n",
              "    </tr>\n",
              "  </tbody>\n",
              "</table>\n",
              "</div>"
            ],
            "text/plain": [
              "Correct  False  True \n",
              "Winner               \n",
              "A           13     41\n",
              "B           12     34"
            ]
          },
          "execution_count": 256,
          "metadata": {},
          "output_type": "execute_result"
        }
      ],
      "source": [
        "pd.crosstab(results_df[f'{mode_prefix}.winner'], results_df[f'{mode_prefix}.correct'], rownames=['Winner'], colnames=['Correct'])"
      ]
    },
    {
      "cell_type": "markdown",
      "metadata": {},
      "source": [
        "### Cross-experiment comparison"
      ]
    },
    {
      "cell_type": "code",
      "execution_count": 247,
      "metadata": {},
      "outputs": [
        {
          "data": {
            "image/png": "[encoded data removed]",
            "text/plain": [
              "<Figure size 1200x600 with 1 Axes>"
            ]
          },
          "metadata": {},
          "output_type": "display_data"
        }
      ],
      "source": [
        "# Cross-experiment comparison\n",
        "import matplotlib.pyplot as plt\n",
        "\n",
        "runs = [\n",
        "    ('parallel_debate_runs/run_20251020_135407/master_results.jsonl', ['debater_direct', 'judge_direct']),\n",
        "    ('parallel_debate_runs/run_20251020_135407/master_results.jsonl', ['debate']),\n",
        "    ('parallel_debate_runs/run_20251021_074342/master_results.jsonl', ['debate']),\n",
        "    ('parallel_debate_runs/run_20251021_080557/master_results.jsonl', ['debate']),\n",
        "    ('parallel_debate_runs/run_20251021_091635/master_results.jsonl', ['debate']),\n",
        "    ('parallel_debate_runs/run_20251021_093704/master_results.jsonl', ['debate']),\n",
        "]\n",
        "\n",
        "accuracies_list = []\n",
        "labels_list = []\n",
        "\n",
        "for results_file, conditions in runs:\n",
        "    df = pd.json_normalize(pd.read_json(results_file, lines=True).to_dict('records'))\n",
        "    \n",
        "    for condition in conditions:\n",
        "        if condition == 'debate':\n",
        "            if 'modes.non_interactive.correct' in df.columns:\n",
        "                col_name = 'modes.non_interactive.correct'\n",
        "            else:\n",
        "                col_name = 'modes.interactive.correct'\n",
        "        else:\n",
        "            col_name = f'{condition}.correct'\n",
        "        \n",
        "        if col_name in df.columns:\n",
        "            accuracy = df[col_name].mean()\n",
        "            count = df[col_name].count()\n",
        "            accuracies_list.append((accuracy, count))\n",
        "            \n",
        "            run_id = results_file.split('_')[-2]\n",
        "            labels_list.append(f\"{run_id}_{condition}\")\n",
        "\n",
        "# Custom x-axis labels (one per bar)\n",
        "custom_labels = ['debater qa', 'judge qa', 'debate baseline', '2 turns max', '1 turn max', 'simultaneous (1 \"turn\")', 'interactive']\n",
        "fig, ax = plt.subplots(figsize=(12, 6))\n",
        "x_pos = range(len(accuracies_list))\n",
        "accuracies = [a[0] for a in accuracies_list]\n",
        "counts = [a[1] for a in accuracies_list]\n",
        "bars = ax.bar(x_pos, accuracies, color=plt.cm.tab10.colors[:len(accuracies_list)])\n",
        "ax.set_xticks(x_pos)\n",
        "ax.set_xticklabels(custom_labels, rotation=45, ha='right')\n",
        "ax.set_ylabel('Accuracy')\n",
        "ax.set_ylim(0, 1)\n",
        "ax.set_title('Accuracy Comparison Across Experiments')\n",
        "\n",
        "for bar, acc, count in zip(bars, accuracies, counts):\n",
        "    ax.text(bar.get_x() + bar.get_width()/2, bar.get_height() + 0.02,\n",
        "            f'{acc:.2f}\\n(n={int(count)})',\n",
        "            ha='center', va='bottom', fontsize=9)\n",
        "\n",
        "plt.tight_layout()\n",
        "plt.show()\n"
      ]
    },
    {
      "cell_type": "markdown",
      "metadata": {},
      "source": [
        "### Why does gpt-4o-mini succeed where gpt-3.5-turbo fails?"
      ]
    },
    {
      "cell_type": "code",
      "execution_count": 340,
      "metadata": {},
      "outputs": [],
      "source": [
        "gpt_4o_results_file = 'parallel_debate_runs/run_20251022_134354/master_results.jsonl'\n",
        "gpt_35_results_file = 'parallel_debate_runs/run_20251022_134546/master_results.jsonl'\n",
        "\n",
        "gpt_4o_mini_results = pd.json_normalize(pd.read_json(gpt_4o_results_file, lines=True).to_dict('records'))\n",
        "gpt_3_5_turbo_results = pd.json_normalize(pd.read_json(gpt_35_results_file, lines=True).to_dict('records'))\n",
        "\n",
        "# merge the results\n",
        "merged = pd.merge(\n",
        "    gpt_4o_mini_results, \n",
        "    gpt_3_5_turbo_results, \n",
        "    on='question.question_idx', \n",
        "    suffixes=('_4o', '_3.5')\n",
        ")"
      ]
    },
    {
      "cell_type": "code",
      "execution_count": 341,
      "metadata": {},
      "outputs": [
        {
          "name": "stdout",
          "output_type": "stream",
          "text": [
            "\n",
            "4o: False, 3.5: False\n",
            "modes.non_interactive.correct_4o  modes.non_interactive.correct_3.5\n",
            "True                              False                                13\n",
            "                                  True                                  9\n",
            "False                             False                                 6\n",
            "                                  True                                  3\n",
            "Name: count, dtype: int64\n",
            "\n",
            "4o: False, 3.5: True\n",
            "modes.non_interactive.correct_4o  modes.non_interactive.correct_3.5\n",
            "True                              False                                6\n",
            "False                             False                                3\n",
            "                                  True                                 3\n",
            "True                              True                                 2\n",
            "Name: count, dtype: int64\n",
            "\n",
            "4o: True, 3.5: False\n",
            "modes.non_interactive.correct_4o  modes.non_interactive.correct_3.5\n",
            "True                              True                                 12\n",
            "                                  False                                 5\n",
            "False                             True                                  2\n",
            "Name: count, dtype: int64\n",
            "\n",
            "4o: True, 3.5: True\n",
            "modes.non_interactive.correct_4o  modes.non_interactive.correct_3.5\n",
            "True                              True                                 16\n",
            "                                  False                                13\n",
            "False                             True                                  3\n",
            "                                  False                                 1\n",
            "Name: count, dtype: int64\n"
          ]
        }
      ],
      "source": [
        "judge_cols = ['judge_direct.correct_4o', 'judge_direct.correct_3.5']\n",
        "mode_cols = ['modes.non_interactive.correct_4o', 'modes.non_interactive.correct_3.5']\n",
        "\n",
        "for judge_state, group in merged.groupby(judge_cols):\n",
        "    print(f\"\\n4o: {judge_state[0]}, 3.5: {judge_state[1]}\")\n",
        "    print(group[mode_cols].value_counts())"
      ]
    },
    {
      "cell_type": "code",
      "execution_count": 342,
      "metadata": {},
      "outputs": [
        {
          "data": {
            "image/png": "[encoded data removed]",
            "text/plain": [
              "<Figure size 800x648 with 2 Axes>"
            ]
          },
          "metadata": {},
          "output_type": "display_data"
        }
      ],
      "source": [
        "merged_no_nan = merged.dropna()\n",
        "data_4o = merged_no_nan[['debater_direct.correct_4o', 'judge_direct.correct_4o', f'{mode_prefix}.correct_4o']].astype(float).values\n",
        "data_35 = merged_no_nan[['debater_direct.correct_3.5', 'judge_direct.correct_3.5', f'{mode_prefix}.correct_3.5']].astype(float).values\n",
        "\n",
        "fig, (ax1, ax2) = plt.subplots(1, 2, figsize=(8, max(6, len(data_4o) * 0.08)), sharey=True)\n",
        "\n",
        "for ax, data, title in [(ax1, data_4o, 'GPT-4o-mini'), (ax2, data_35, 'GPT-3.5-turbo')]:\n",
        "    ax.imshow(data, aspect='auto', cmap='RdYlGn', vmin=0, vmax=1, interpolation='nearest')\n",
        "    ax.set_xticks([0, 1, 2])\n",
        "    ax.set_xticklabels(['Debater QA', 'Judge QA', 'Debate'])\n",
        "    ax.set_title(title)\n",
        "    # for i in range(len(data) + 1):\n",
        "    #     ax.axhline(i - 0.5, color='white', linewidth=0.5, alpha=0.5)\n",
        "\n",
        "ax1.set_yticks(range(len(merged_no_nan)))\n",
        "ax1.set_yticklabels(merged_no_nan['question.question_idx'].values, fontsize=5)\n",
        "ax1.set_ylabel('Question Index')\n",
        "\n",
        "plt.tight_layout()\n",
        "plt.show()"
      ]
    },
    {
      "cell_type": "code",
      "execution_count": 344,
      "metadata": {},
      "outputs": [
        {
          "name": "stdout",
          "output_type": "stream",
          "text": [
            "When GPT-4o-mini goes C-I-C (n=24):\n",
            "\n",
            "GPT-3.5-turbo patterns:\n",
            "  C-I-I: 0.417\n",
            "  C-I-C: 0.292\n",
            "  C-C-I: 0.208\n",
            "  C-C-C: 0.083\n",
            "\n",
            "Sum: 1.000\n"
          ]
        }
      ],
      "source": [
        "# Get breakdown of what 3.5 did conditional on 4o going C-I-C (correct, incorrect, correct)\n",
        "mask_4o_cic = (\n",
        "    (merged['debater_direct.correct_4o'] == True) & \n",
        "    (merged['judge_direct.correct_4o'] == False) & \n",
        "    (merged[f'{mode_prefix}.correct_4o'] == True)\n",
        ")\n",
        "\n",
        "filtered_35 = merged[mask_4o_cic][['debater_direct.correct_3.5', 'judge_direct.correct_3.5', f'{mode_prefix}.correct_3.5']]\n",
        "\n",
        "patterns = filtered_35.apply(lambda row: tuple(row.astype(bool).values), axis=1).value_counts()\n",
        "pattern_ratios = patterns / patterns.sum()\n",
        "\n",
        "print(f\"When GPT-4o-mini goes C-I-C (n={mask_4o_cic.sum()}):\")\n",
        "print(\"\\nGPT-3.5-turbo patterns:\")\n",
        "for pattern, ratio in pattern_ratios.items():\n",
        "    labels = ['C' if x else 'I' for x in pattern]\n",
        "    print(f\"  {'-'.join(labels)}: {ratio:.3f}\")\n",
        "print(f\"\\nSum: {pattern_ratios.sum():.3f}\") \n"
      ]
    },
    {
      "cell_type": "markdown",
      "metadata": {},
      "source": []
    },
    {
      "cell_type": "code",
      "execution_count": 345,
      "metadata": {},
      "outputs": [
        {
          "name": "stdout",
          "output_type": "stream",
          "text": [
            "Overall distribution of outcomes for GPT-4o-mini:\n",
            "  C-C-C: 0.430 (n=43)\n",
            "  C-I-C: 0.250 (n=25)\n",
            "  C-I-I: 0.100 (n=10)\n",
            "  I-I-I: 0.060 (n=6)\n",
            "  I-I-C: 0.060 (n=6)\n",
            "  I-C-C: 0.040 (n=4)\n",
            "  C-C-I: 0.030 (n=3)\n",
            "  I-C-I: 0.030 (n=3)\n",
            "\n",
            "Sum: 1.000\n",
            "\n",
            "Overall distribution of outcomes for GPT-3.5-turbo (in same order as 4o):\n",
            "  C-C-C: 0.220 (n=22)\n",
            "  C-I-C: 0.210 (n=21)\n",
            "  C-I-I: 0.190 (n=19)\n",
            "  I-I-I: 0.070 (n=7)\n",
            "  I-I-C: 0.050 (n=5)\n",
            "  I-C-C: 0.030 (n=3)\n",
            "  C-C-I: 0.190 (n=19)\n",
            "  I-C-I: 0.040 (n=4)\n",
            "\n",
            "Sum: 1.000\n"
          ]
        }
      ],
      "source": [
        "# What is the overall distribution of outcomes for 3.5 (C-I-C, C-I-I, C-C-C, C-C-I, I-I-I, I-I-C, I-C-C, I-C-I). Should sum to one.\n",
        "# Get overall distribution of outcomes for both models\n",
        "patterns_4o = merged[['debater_direct.correct_4o', 'judge_direct.correct_4o', f'{mode_prefix}.correct_4o']].apply(\n",
        "    lambda row: tuple(row.astype(bool).values), axis=1\n",
        ").value_counts()\n",
        "\n",
        "pattern_ratios_4o = patterns_4o / patterns_4o.sum()\n",
        "\n",
        "# Sort 4o patterns by frequency\n",
        "sorted_patterns_4o = sorted(patterns_4o.items(), key=lambda x: x[1], reverse=True)\n",
        "sorted_keys_4o = [pattern for pattern, _ in sorted_patterns_4o]\n",
        "\n",
        "# Get 3.5 patterns\n",
        "patterns_35 = merged[['debater_direct.correct_3.5', 'judge_direct.correct_3.5', f'{mode_prefix}.correct_3.5']].apply(\n",
        "    lambda row: tuple(row.astype(bool).values), axis=1\n",
        ").value_counts()\n",
        "\n",
        "pattern_ratios_35 = patterns_35 / patterns_35.sum()\n",
        "\n",
        "# Print 4o patterns sorted by frequency\n",
        "print(\"Overall distribution of outcomes for GPT-4o-mini:\")\n",
        "for pattern, count in sorted_patterns_4o:\n",
        "    labels = ['C' if x else 'I' for x in pattern]\n",
        "    ratio = pattern_ratios_4o[pattern]\n",
        "    print(f\"  {'-'.join(labels)}: {ratio:.3f} (n={count})\")\n",
        "print(f\"\\nSum: {pattern_ratios_4o.sum():.3f}\")\n",
        "\n",
        "# Print 3.5 patterns in the same order as 4o\n",
        "print(\"\\nOverall distribution of outcomes for GPT-3.5-turbo (in same order as 4o):\")\n",
        "for pattern in sorted_keys_4o:\n",
        "    if pattern in patterns_35:\n",
        "        labels = ['C' if x else 'I' for x in pattern]\n",
        "        ratio = pattern_ratios_35[pattern]\n",
        "        count = patterns_35[pattern]\n",
        "        print(f\"  {'-'.join(labels)}: {ratio:.3f} (n={count})\")\n",
        "    else:\n",
        "        labels = ['C' if x else 'I' for x in pattern]\n",
        "        print(f\"  {'-'.join(labels)}: 0.000 (n=0)\")\n",
        "print(f\"\\nSum: {pattern_ratios_35.sum():.3f}\")\n",
        "\n"
      ]
    },
    {
      "cell_type": "code",
      "execution_count": null,
      "metadata": {},
      "outputs": [],
      "source": []
    }
  ],
  "metadata": {
    "kernelspec": {
      "display_name": "llm_judge_debate",
      "language": "python",
      "name": "python3"
    },
    "language_info": {
      "codemirror_mode": {
        "name": "ipython",
        "version": 3
      },
      "file_extension": ".py",
      "mimetype": "text/x-python",
      "name": "python",
      "nbconvert_exporter": "python",
      "pygments_lexer": "ipython3",
      "version": "3.11.13"
    }
  },
  "nbformat": 4,
  "nbformat_minor": 2
}
