{
  "cells": [
    {
      "cell_type": "markdown",
      "metadata": {},
      "source": [
        "# Debate Results Analysis\n",
        "\n",
        "Comparing accuracy across three conditions:\n",
        "1. **Debater Direct**: Debater LLM answers directly\n",
        "2. **Judge Direct**: Judge LLM answers directly\n",
        "3. **Non-Interactive Debate**: Debaters debate, judge decides\n"
      ]
    },
    {
      "cell_type": "code",
      "execution_count": 3,
      "metadata": {},
      "outputs": [],
      "source": [
        "import json\n",
        "import pandas as pd\n"
      ]
    },
    {
      "cell_type": "code",
      "execution_count": 8,
      "metadata": {},
      "outputs": [],
      "source": [
        "results_file =  'parallel_debate_runs/run_20251017_131838/master_results.jsonl'"
      ]
    },
    {
      "cell_type": "code",
      "execution_count": 12,
      "metadata": {},
      "outputs": [
        {
          "name": "stdout",
          "output_type": "stream",
          "text": [
            "Total results: 88\n"
          ]
        }
      ],
      "source": [
        "# Load the results\n",
        "results = []\n",
        "with open(results_file, 'r') as f:\n",
        "    for line in f:\n",
        "        if line.strip():\n",
        "            results.append(json.loads(line))\n",
        "\n",
        "print(f\"Total results: {len(results)}\")\n"
      ]
    },
    {
      "cell_type": "code",
      "execution_count": 13,
      "metadata": {},
      "outputs": [
        {
          "data": {
            "text/html": [
              "<div>\n",
              "<style scoped>\n",
              "    .dataframe tbody tr th:only-of-type {\n",
              "        vertical-align: middle;\n",
              "    }\n",
              "\n",
              "    .dataframe tbody tr th {\n",
              "        vertical-align: top;\n",
              "    }\n",
              "\n",
              "    .dataframe thead th {\n",
              "        text-align: right;\n",
              "    }\n",
              "</style>\n",
              "<table border=\"1\" class=\"dataframe\">\n",
              "  <thead>\n",
              "    <tr style=\"text-align: right;\">\n",
              "      <th></th>\n",
              "      <th>Condition</th>\n",
              "      <th>Correct</th>\n",
              "      <th>N</th>\n",
              "      <th>Accuracy</th>\n",
              "      <th>Accuracy %</th>\n",
              "    </tr>\n",
              "  </thead>\n",
              "  <tbody>\n",
              "    <tr>\n",
              "      <th>0</th>\n",
              "      <td>Debater Direct</td>\n",
              "      <td>54</td>\n",
              "      <td>88</td>\n",
              "      <td>0.613636</td>\n",
              "      <td>61.36</td>\n",
              "    </tr>\n",
              "    <tr>\n",
              "      <th>1</th>\n",
              "      <td>Judge Direct</td>\n",
              "      <td>49</td>\n",
              "      <td>88</td>\n",
              "      <td>0.556818</td>\n",
              "      <td>55.68</td>\n",
              "    </tr>\n",
              "    <tr>\n",
              "      <th>2</th>\n",
              "      <td>Non-Interactive Debate</td>\n",
              "      <td>4</td>\n",
              "      <td>7</td>\n",
              "      <td>0.571429</td>\n",
              "      <td>57.14</td>\n",
              "    </tr>\n",
              "  </tbody>\n",
              "</table>\n",
              "</div>"
            ],
            "text/plain": [
              "                Condition  Correct   N  Accuracy  Accuracy %\n",
              "0          Debater Direct       54  88  0.613636       61.36\n",
              "1            Judge Direct       49  88  0.556818       55.68\n",
              "2  Non-Interactive Debate        4   7  0.571429       57.14"
            ]
          },
          "execution_count": 13,
          "metadata": {},
          "output_type": "execute_result"
        }
      ],
      "source": [
        "# Calculate accuracy for each condition, skipping None values\n",
        "# Debater Direct\n",
        "debater_valid = [r for r in results if r['debater_direct']['correct'] is not None]\n",
        "debater_correct = sum(1 for r in debater_valid if r['debater_direct']['correct'])\n",
        "debater_n = len(debater_valid)\n",
        "\n",
        "# Judge Direct\n",
        "judge_valid = [r for r in results if r['judge_direct']['correct'] is not None]\n",
        "judge_correct = sum(1 for r in judge_valid if r['judge_direct']['correct'])\n",
        "judge_n = len(judge_valid)\n",
        "\n",
        "# Non-Interactive Debate\n",
        "debate_valid = [r for r in results if r['modes']['non_interactive']['correct'] is not None]\n",
        "debate_correct = sum(1 for r in debate_valid if r['modes']['non_interactive']['correct'])\n",
        "debate_n = len(debate_valid)\n",
        "\n",
        "accuracy_data = {\n",
        "    'Condition': ['Debater Direct', 'Judge Direct', 'Non-Interactive Debate'],\n",
        "    'Correct': [debater_correct, judge_correct, debate_correct],\n",
        "    'N': [debater_n, judge_n, debate_n],\n",
        "    'Accuracy': [\n",
        "        debater_correct / debater_n if debater_n > 0 else 0,\n",
        "        judge_correct / judge_n if judge_n > 0 else 0,\n",
        "        debate_correct / debate_n if debate_n > 0 else 0\n",
        "    ]\n",
        "}\n",
        "\n",
        "df = pd.DataFrame(accuracy_data)\n",
        "df['Accuracy %'] = (df['Accuracy'] * 100).round(2)\n",
        "df\n"
      ]
    },
    {
      "cell_type": "code",
      "execution_count": 14,
      "metadata": {},
      "outputs": [
        {
          "data": {
            "image/png": "[encoded data removed]",
            "text/plain": [
              "<Figure size 1000x600 with 1 Axes>"
            ]
          },
          "metadata": {},
          "output_type": "display_data"
        }
      ],
      "source": [
        "# Simple visualization\n",
        "import matplotlib.pyplot as plt\n",
        "\n",
        "plt.figure(figsize=(10, 6))\n",
        "plt.bar(df['Condition'], df['Accuracy %'], color=['#3498db', '#e74c3c', '#2ecc71'])\n",
        "plt.ylabel('Accuracy (%)', fontsize=12)\n",
        "plt.title('Accuracy Comparison Across Conditions', fontsize=14, fontweight='bold')\n",
        "plt.ylim(0, 100)\n",
        "plt.xticks(rotation=15, ha='right')\n",
        "\n",
        "# Add value labels on bars\n",
        "for i, v in enumerate(df['Accuracy %']):\n",
        "    plt.text(i, v + 2, f\"{v:.1f}%\", ha='center', va='bottom', fontsize=11)\n",
        "\n",
        "plt.tight_layout()\n",
        "plt.show()\n"
      ]
    },
    {
      "cell_type": "code",
      "execution_count": null,
      "metadata": {},
      "outputs": [],
      "source": []
    }
  ],
  "metadata": {
    "kernelspec": {
      "display_name": "llm_judge_debate",
      "language": "python",
      "name": "python3"
    },
    "language_info": {
      "codemirror_mode": {
        "name": "ipython",
        "version": 3
      },
      "file_extension": ".py",
      "mimetype": "text/x-python",
      "name": "python",
      "nbconvert_exporter": "python",
      "pygments_lexer": "ipython3",
      "version": "3.11.13"
    }
  },
  "nbformat": 4,
  "nbformat_minor": 2
}
