{
  "cells": [
    {
      "cell_type": "markdown",
      "metadata": {},
      "source": [
        "# Debate Results Analysis\n",
        "\n",
        "Comparing accuracy across three conditions:\n",
        "1. **Debater Direct**: Debater LLM answers directly\n",
        "2. **Judge Direct**: Judge LLM answers directly\n",
        "3. **Debate**\n"
      ]
    },
    {
      "cell_type": "code",
      "execution_count": 34,
      "metadata": {},
      "outputs": [],
      "source": [
        "import json\n",
        "import pandas as pd"
      ]
    },
    {
      "cell_type": "code",
      "execution_count": 139,
      "metadata": {},
      "outputs": [
        {
          "data": {
            "text/html": [
              "<div>\n",
              "<style scoped>\n",
              "    .dataframe tbody tr th:only-of-type {\n",
              "        vertical-align: middle;\n",
              "    }\n",
              "\n",
              "    .dataframe tbody tr th {\n",
              "        vertical-align: top;\n",
              "    }\n",
              "\n",
              "    .dataframe thead th {\n",
              "        text-align: right;\n",
              "    }\n",
              "</style>\n",
              "<table border=\"1\" class=\"dataframe\">\n",
              "  <thead>\n",
              "    <tr style=\"text-align: right;\">\n",
              "      <th></th>\n",
              "      <th>run_id</th>\n",
              "      <th>timestamp</th>\n",
              "      <th>question.question_idx</th>\n",
              "      <th>question.choices_selected</th>\n",
              "      <th>question.choice_values</th>\n",
              "      <th>question.is_correct</th>\n",
              "      <th>question.dataset_name</th>\n",
              "      <th>question.dataset_subset</th>\n",
              "      <th>question.dataset_split</th>\n",
              "      <th>debater_direct.correct</th>\n",
              "      <th>debater_direct.confidence</th>\n",
              "      <th>debater_direct.cached</th>\n",
              "      <th>judge_direct.correct</th>\n",
              "      <th>judge_direct.confidence</th>\n",
              "      <th>judge_direct.cached</th>\n",
              "      <th>modes.non_interactive.turns</th>\n",
              "      <th>modes.non_interactive.winner</th>\n",
              "      <th>modes.non_interactive.correct</th>\n",
              "      <th>modes.non_interactive.confidence</th>\n",
              "    </tr>\n",
              "  </thead>\n",
              "  <tbody>\n",
              "    <tr>\n",
              "      <th>0</th>\n",
              "      <td>3e181515</td>\n",
              "      <td>1970-08-23 09:17:01.074513</td>\n",
              "      <td>188</td>\n",
              "      <td>[3, 0]</td>\n",
              "      <td>[Pion, Skyrmion]</td>\n",
              "      <td>[False, True]</td>\n",
              "      <td>Idavidrein/gpqa</td>\n",
              "      <td>gpqa_diamond</td>\n",
              "      <td>train</td>\n",
              "      <td>True</td>\n",
              "      <td>95.0</td>\n",
              "      <td>True</td>\n",
              "      <td>True</td>\n",
              "      <td>85</td>\n",
              "      <td>True</td>\n",
              "      <td>2.0</td>\n",
              "      <td>B</td>\n",
              "      <td>True</td>\n",
              "      <td>85.0</td>\n",
              "    </tr>\n",
              "    <tr>\n",
              "      <th>1</th>\n",
              "      <td>458bb5c0</td>\n",
              "      <td>1970-08-23 09:17:01.074549</td>\n",
              "      <td>87</td>\n",
              "      <td>[0, 3]</td>\n",
              "      <td>[somatic hypermutation, complement activation]</td>\n",
              "      <td>[True, False]</td>\n",
              "      <td>Idavidrein/gpqa</td>\n",
              "      <td>gpqa_diamond</td>\n",
              "      <td>train</td>\n",
              "      <td>True</td>\n",
              "      <td>100.0</td>\n",
              "      <td>True</td>\n",
              "      <td>True</td>\n",
              "      <td>90</td>\n",
              "      <td>True</td>\n",
              "      <td>2.0</td>\n",
              "      <td>A</td>\n",
              "      <td>True</td>\n",
              "      <td>85.0</td>\n",
              "    </tr>\n",
              "    <tr>\n",
              "      <th>2</th>\n",
              "      <td>c21aa10a</td>\n",
              "      <td>1970-08-23 09:17:01.074552</td>\n",
              "      <td>40</td>\n",
              "      <td>[0, 1]</td>\n",
              "      <td>[(1+n*v)/(n+v)\\n\\n, 1]</td>\n",
              "      <td>[True, False]</td>\n",
              "      <td>Idavidrein/gpqa</td>\n",
              "      <td>gpqa_diamond</td>\n",
              "      <td>train</td>\n",
              "      <td>True</td>\n",
              "      <td>100.0</td>\n",
              "      <td>True</td>\n",
              "      <td>True</td>\n",
              "      <td>90</td>\n",
              "      <td>True</td>\n",
              "      <td>2.0</td>\n",
              "      <td>A</td>\n",
              "      <td>True</td>\n",
              "      <td>85.0</td>\n",
              "    </tr>\n",
              "    <tr>\n",
              "      <th>3</th>\n",
              "      <td>32fe8ba4</td>\n",
              "      <td>1970-08-23 09:17:01.074555</td>\n",
              "      <td>75</td>\n",
              "      <td>[1, 0]</td>\n",
              "      <td>[green signal colocalizes with the red signal,...</td>\n",
              "      <td>[False, True]</td>\n",
              "      <td>Idavidrein/gpqa</td>\n",
              "      <td>gpqa_diamond</td>\n",
              "      <td>train</td>\n",
              "      <td>True</td>\n",
              "      <td>80.0</td>\n",
              "      <td>True</td>\n",
              "      <td>False</td>\n",
              "      <td>85</td>\n",
              "      <td>True</td>\n",
              "      <td>2.0</td>\n",
              "      <td>A</td>\n",
              "      <td>False</td>\n",
              "      <td>75.0</td>\n",
              "    </tr>\n",
              "    <tr>\n",
              "      <th>4</th>\n",
              "      <td>a5ba4f63</td>\n",
              "      <td>1970-08-23 09:17:01.074555</td>\n",
              "      <td>26</td>\n",
              "      <td>[0, 3]</td>\n",
              "      <td>[cytosol to the extracellular space, ribosome ...</td>\n",
              "      <td>[True, False]</td>\n",
              "      <td>Idavidrein/gpqa</td>\n",
              "      <td>gpqa_diamond</td>\n",
              "      <td>train</td>\n",
              "      <td>True</td>\n",
              "      <td>100.0</td>\n",
              "      <td>True</td>\n",
              "      <td>False</td>\n",
              "      <td>85</td>\n",
              "      <td>True</td>\n",
              "      <td>2.0</td>\n",
              "      <td>A</td>\n",
              "      <td>True</td>\n",
              "      <td>85.0</td>\n",
              "    </tr>\n",
              "  </tbody>\n",
              "</table>\n",
              "</div>"
            ],
            "text/plain": [
              "     run_id                  timestamp  question.question_idx  \\\n",
              "0  3e181515 1970-08-23 09:17:01.074513                    188   \n",
              "1  458bb5c0 1970-08-23 09:17:01.074549                     87   \n",
              "2  c21aa10a 1970-08-23 09:17:01.074552                     40   \n",
              "3  32fe8ba4 1970-08-23 09:17:01.074555                     75   \n",
              "4  a5ba4f63 1970-08-23 09:17:01.074555                     26   \n",
              "\n",
              "  question.choices_selected  \\\n",
              "0                    [3, 0]   \n",
              "1                    [0, 3]   \n",
              "2                    [0, 1]   \n",
              "3                    [1, 0]   \n",
              "4                    [0, 3]   \n",
              "\n",
              "                              question.choice_values question.is_correct  \\\n",
              "0                                   [Pion, Skyrmion]       [False, True]   \n",
              "1     [somatic hypermutation, complement activation]       [True, False]   \n",
              "2                             [(1+n*v)/(n+v)\\n\\n, 1]       [True, False]   \n",
              "3  [green signal colocalizes with the red signal,...       [False, True]   \n",
              "4  [cytosol to the extracellular space, ribosome ...       [True, False]   \n",
              "\n",
              "  question.dataset_name question.dataset_subset question.dataset_split  \\\n",
              "0       Idavidrein/gpqa            gpqa_diamond                  train   \n",
              "1       Idavidrein/gpqa            gpqa_diamond                  train   \n",
              "2       Idavidrein/gpqa            gpqa_diamond                  train   \n",
              "3       Idavidrein/gpqa            gpqa_diamond                  train   \n",
              "4       Idavidrein/gpqa            gpqa_diamond                  train   \n",
              "\n",
              "  debater_direct.correct  debater_direct.confidence  debater_direct.cached  \\\n",
              "0                   True                       95.0                   True   \n",
              "1                   True                      100.0                   True   \n",
              "2                   True                      100.0                   True   \n",
              "3                   True                       80.0                   True   \n",
              "4                   True                      100.0                   True   \n",
              "\n",
              "   judge_direct.correct  judge_direct.confidence  judge_direct.cached  \\\n",
              "0                  True                       85                 True   \n",
              "1                  True                       90                 True   \n",
              "2                  True                       90                 True   \n",
              "3                 False                       85                 True   \n",
              "4                 False                       85                 True   \n",
              "\n",
              "   modes.non_interactive.turns modes.non_interactive.winner  \\\n",
              "0                          2.0                            B   \n",
              "1                          2.0                            A   \n",
              "2                          2.0                            A   \n",
              "3                          2.0                            A   \n",
              "4                          2.0                            A   \n",
              "\n",
              "  modes.non_interactive.correct  modes.non_interactive.confidence  \n",
              "0                          True                              85.0  \n",
              "1                          True                              85.0  \n",
              "2                          True                              85.0  \n",
              "3                         False                              75.0  \n",
              "4                          True                              85.0  "
            ]
          },
          "execution_count": 139,
          "metadata": {},
          "output_type": "execute_result"
        }
      ],
      "source": [
        "# results_file = 'parallel_debate_runs/run_20251020_131736/master_results.jsonl'\n",
        "# results_file = 'parallel_debate_runs/run_20251020_135407/master_results.jsonl'\n",
        "# results_file = 'parallel_debate_runs/run_20251020_141121/master_results.jsonl'\n",
        "results_file = 'parallel_debate_runs/run_20251021_074342/master_results.jsonl'\n",
        "# results_file = 'parallel_debate_runs/run_20251021_080557/master_results.jsonl'\n",
        "\n",
        "results_df = pd.json_normalize(pd.read_json(results_file, lines=True).to_dict('records'))\n",
        "results_df.head()"
      ]
    },
    {
      "cell_type": "code",
      "execution_count": 154,
      "metadata": {},
      "outputs": [
        {
          "data": {
            "text/html": [
              "<div>\n",
              "<style scoped>\n",
              "    .dataframe tbody tr th:only-of-type {\n",
              "        vertical-align: middle;\n",
              "    }\n",
              "\n",
              "    .dataframe tbody tr th {\n",
              "        vertical-align: top;\n",
              "    }\n",
              "\n",
              "    .dataframe thead th {\n",
              "        text-align: right;\n",
              "    }\n",
              "</style>\n",
              "<table border=\"1\" class=\"dataframe\">\n",
              "  <thead>\n",
              "    <tr style=\"text-align: right;\">\n",
              "      <th></th>\n",
              "      <th>accuracy</th>\n",
              "      <th>total_count</th>\n",
              "    </tr>\n",
              "  </thead>\n",
              "  <tbody>\n",
              "    <tr>\n",
              "      <th>debater_direct.correct</th>\n",
              "      <td>0.876404</td>\n",
              "      <td>89</td>\n",
              "    </tr>\n",
              "    <tr>\n",
              "      <th>judge_direct.correct</th>\n",
              "      <td>0.58</td>\n",
              "      <td>100</td>\n",
              "    </tr>\n",
              "    <tr>\n",
              "      <th>modes.non_interactive.correct</th>\n",
              "      <td>0.772727</td>\n",
              "      <td>88</td>\n",
              "    </tr>\n",
              "  </tbody>\n",
              "</table>\n",
              "</div>"
            ],
            "text/plain": [
              "                               accuracy  total_count\n",
              "debater_direct.correct         0.876404           89\n",
              "judge_direct.correct               0.58          100\n",
              "modes.non_interactive.correct  0.772727           88"
            ]
          },
          "execution_count": 154,
          "metadata": {},
          "output_type": "execute_result"
        }
      ],
      "source": [
        "correct_cols = results_df.filter(like='correct').drop(columns='question.is_correct')\n",
        "accuracies = pd.DataFrame({\n",
        "    'accuracy': correct_cols.mean(),\n",
        "    'total_count': correct_cols.count()\n",
        "})\n",
        "accuracies"
      ]
    },
    {
      "cell_type": "code",
      "execution_count": 156,
      "metadata": {},
      "outputs": [
        {
          "data": {
            "image/png": "[encoded data removed]",
            "text/plain": [
              "<Figure size 640x480 with 1 Axes>"
            ]
          },
          "metadata": {},
          "output_type": "display_data"
        }
      ],
      "source": [
        "from matplotlib import pyplot as plt\n",
        "ax = accuracies['accuracy'].plot.bar(color=plt.cm.tab10.colors, ylim=(0, 1))\n",
        "ax.set_xticklabels(ax.get_xticklabels(), rotation=45, ha='right')\n",
        "for bar, (idx, row) in zip(ax.patches, accuracies.iterrows()):\n",
        "    ax.text(bar.get_x() + bar.get_width()/2, bar.get_height() + 0.02, \n",
        "            f'{row[\"accuracy\"]:.2f} (n={int(row[\"total_count\"])})', \n",
        "            ha='center', va='bottom')\n",
        "plt.tight_layout()\n",
        "plt.title(results_file)\n",
        "plt.show()"
      ]
    },
    {
      "cell_type": "code",
      "execution_count": 157,
      "metadata": {},
      "outputs": [
        {
          "data": {
            "text/plain": [
              "modes.non_interactive.turns\n",
              "2.0    88\n",
              "Name: count, dtype: int64"
            ]
          },
          "execution_count": 157,
          "metadata": {},
          "output_type": "execute_result"
        }
      ],
      "source": [
        "results_df['modes.non_interactive.turns'].value_counts()\n"
      ]
    },
    {
      "cell_type": "code",
      "execution_count": 158,
      "metadata": {},
      "outputs": [
        {
          "data": {
            "text/plain": [
              "count    68.0\n",
              "mean      2.0\n",
              "std       0.0\n",
              "min       2.0\n",
              "25%       2.0\n",
              "50%       2.0\n",
              "75%       2.0\n",
              "max       2.0\n",
              "Name: modes.non_interactive.turns, dtype: float64"
            ]
          },
          "execution_count": 158,
          "metadata": {},
          "output_type": "execute_result"
        }
      ],
      "source": [
        "# Get the non interactive turns on correct vs incorrect debater answers\n",
        "results_df[results_df['modes.non_interactive.correct'] == True]['modes.non_interactive.turns'].describe()"
      ]
    },
    {
      "cell_type": "code",
      "execution_count": 159,
      "metadata": {},
      "outputs": [
        {
          "data": {
            "text/plain": [
              "count    20.0\n",
              "mean      2.0\n",
              "std       0.0\n",
              "min       2.0\n",
              "25%       2.0\n",
              "50%       2.0\n",
              "75%       2.0\n",
              "max       2.0\n",
              "Name: modes.non_interactive.turns, dtype: float64"
            ]
          },
          "execution_count": 159,
          "metadata": {},
          "output_type": "execute_result"
        }
      ],
      "source": [
        "results_df[results_df['modes.non_interactive.correct'] == False]['modes.non_interactive.turns'].describe()"
      ]
    },
    {
      "cell_type": "code",
      "execution_count": 145,
      "metadata": {},
      "outputs": [
        {
          "data": {
            "image/png": "[encoded data removed]",
            "text/plain": [
              "<Figure size 400x664 with 1 Axes>"
            ]
          },
          "metadata": {},
          "output_type": "display_data"
        }
      ],
      "source": [
        "import matplotlib.pyplot as plt\n",
        "import numpy as np\n",
        "\n",
        "data = results_df[['debater_direct.correct', 'judge_direct.correct', 'modes.non_interactive.correct']].dropna().astype(float).values\n",
        "fig, ax = plt.subplots(figsize=(4, max(6, len(data) * 0.08)))\n",
        "im = ax.imshow(data, aspect='auto', cmap='RdYlGn', vmin=0, vmax=1, interpolation='nearest')\n",
        "ax.set_xticks([0, 1, 2])\n",
        "ax.set_xticklabels(['Debater QA', 'Judge QA', 'Debate'])\n",
        "ax.set_ylabel('Sample')\n",
        "ax.set_yticks([0, len(data)-1])\n",
        "ax.set_yticklabels([1, len(data)])\n",
        "plt.tight_layout()\n",
        "plt.show()\n"
      ]
    },
    {
      "cell_type": "code",
      "execution_count": 164,
      "metadata": {},
      "outputs": [
        {
          "data": {
            "text/plain": [
              "modes.non_interactive.winner\n",
              "B    48\n",
              "A    40\n",
              "Name: count, dtype: int64"
            ]
          },
          "execution_count": 164,
          "metadata": {},
          "output_type": "execute_result"
        }
      ],
      "source": [
        "results_df['modes.non_interactive.winner'].value_counts()"
      ]
    },
    {
      "cell_type": "code",
      "execution_count": 177,
      "metadata": {},
      "outputs": [
        {
          "data": {
            "text/html": [
              "<div>\n",
              "<style scoped>\n",
              "    .dataframe tbody tr th:only-of-type {\n",
              "        vertical-align: middle;\n",
              "    }\n",
              "\n",
              "    .dataframe tbody tr th {\n",
              "        vertical-align: top;\n",
              "    }\n",
              "\n",
              "    .dataframe thead th {\n",
              "        text-align: right;\n",
              "    }\n",
              "</style>\n",
              "<table border=\"1\" class=\"dataframe\">\n",
              "  <thead>\n",
              "    <tr style=\"text-align: right;\">\n",
              "      <th>Correct</th>\n",
              "      <th>False</th>\n",
              "      <th>True</th>\n",
              "    </tr>\n",
              "    <tr>\n",
              "      <th>Winner</th>\n",
              "      <th></th>\n",
              "      <th></th>\n",
              "    </tr>\n",
              "  </thead>\n",
              "  <tbody>\n",
              "    <tr>\n",
              "      <th>A</th>\n",
              "      <td>7</td>\n",
              "      <td>33</td>\n",
              "    </tr>\n",
              "    <tr>\n",
              "      <th>B</th>\n",
              "      <td>13</td>\n",
              "      <td>35</td>\n",
              "    </tr>\n",
              "  </tbody>\n",
              "</table>\n",
              "</div>"
            ],
            "text/plain": [
              "Correct  False  True \n",
              "Winner               \n",
              "A            7     33\n",
              "B           13     35"
            ]
          },
          "execution_count": 177,
          "metadata": {},
          "output_type": "execute_result"
        }
      ],
      "source": [
        "pd.crosstab(results_df['modes.non_interactive.winner'], results_df['modes.non_interactive.correct'], rownames=['Winner'], colnames=['Correct'])"
      ]
    },
    {
      "cell_type": "code",
      "execution_count": null,
      "metadata": {},
      "outputs": [],
      "source": []
    }
  ],
  "metadata": {
    "kernelspec": {
      "display_name": "llm_judge_debate",
      "language": "python",
      "name": "python3"
    },
    "language_info": {
      "codemirror_mode": {
        "name": "ipython",
        "version": 3
      },
      "file_extension": ".py",
      "mimetype": "text/x-python",
      "name": "python",
      "nbconvert_exporter": "python",
      "pygments_lexer": "ipython3",
      "version": "3.11.13"
    }
  },
  "nbformat": 4,
  "nbformat_minor": 2
}
