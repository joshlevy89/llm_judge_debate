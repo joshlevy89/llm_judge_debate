{
  "cells": [
    {
      "cell_type": "markdown",
      "metadata": {},
      "source": [
        "# Debate Results Analysis\n",
        "\n",
        "Comparing accuracy across three conditions:\n",
        "1. **Debater Direct**: Debater LLM answers directly\n",
        "2. **Judge Direct**: Judge LLM answers directly\n",
        "3. **Debate**\n"
      ]
    },
    {
      "cell_type": "code",
      "execution_count": 34,
      "metadata": {},
      "outputs": [],
      "source": [
        "import json\n",
        "import pandas as pd"
      ]
    },
    {
      "cell_type": "code",
      "execution_count": null,
      "metadata": {},
      "outputs": [
        {
          "data": {
            "text/html": [
              "<div>\n",
              "<style scoped>\n",
              "    .dataframe tbody tr th:only-of-type {\n",
              "        vertical-align: middle;\n",
              "    }\n",
              "\n",
              "    .dataframe tbody tr th {\n",
              "        vertical-align: top;\n",
              "    }\n",
              "\n",
              "    .dataframe thead th {\n",
              "        text-align: right;\n",
              "    }\n",
              "</style>\n",
              "<table border=\"1\" class=\"dataframe\">\n",
              "  <thead>\n",
              "    <tr style=\"text-align: right;\">\n",
              "      <th></th>\n",
              "      <th>run_id</th>\n",
              "      <th>timestamp</th>\n",
              "      <th>question.question_idx</th>\n",
              "      <th>question.choices_selected</th>\n",
              "      <th>question.choice_values</th>\n",
              "      <th>question.is_correct</th>\n",
              "      <th>question.dataset_name</th>\n",
              "      <th>question.dataset_subset</th>\n",
              "      <th>question.dataset_split</th>\n",
              "      <th>debater_direct.correct</th>\n",
              "      <th>debater_direct.confidence</th>\n",
              "      <th>debater_direct.cached</th>\n",
              "      <th>judge_direct.correct</th>\n",
              "      <th>judge_direct.confidence</th>\n",
              "      <th>judge_direct.cached</th>\n",
              "      <th>modes.non_interactive.turns</th>\n",
              "      <th>modes.non_interactive.winner</th>\n",
              "      <th>modes.non_interactive.correct</th>\n",
              "      <th>modes.non_interactive.confidence</th>\n",
              "    </tr>\n",
              "  </thead>\n",
              "  <tbody>\n",
              "    <tr>\n",
              "      <th>0</th>\n",
              "      <td>16feab01</td>\n",
              "      <td>1970-08-23 09:17:01.142813</td>\n",
              "      <td>39</td>\n",
              "      <td>[0, 3]</td>\n",
              "      <td>[The compounds they are working with have simi...</td>\n",
              "      <td>[True, False]</td>\n",
              "      <td>Idavidrein/gpqa</td>\n",
              "      <td>gpqa_diamond</td>\n",
              "      <td>train</td>\n",
              "      <td>True</td>\n",
              "      <td>95</td>\n",
              "      <td>False</td>\n",
              "      <td>True</td>\n",
              "      <td>90.0</td>\n",
              "      <td>False</td>\n",
              "      <td>4</td>\n",
              "      <td>A</td>\n",
              "      <td>True</td>\n",
              "      <td>85</td>\n",
              "    </tr>\n",
              "    <tr>\n",
              "      <th>1</th>\n",
              "      <td>66821343</td>\n",
              "      <td>1970-08-23 09:17:01.142817</td>\n",
              "      <td>40</td>\n",
              "      <td>[0, 1]</td>\n",
              "      <td>[(1+n*v)/(n+v)\\n\\n, 1]</td>\n",
              "      <td>[True, False]</td>\n",
              "      <td>Idavidrein/gpqa</td>\n",
              "      <td>gpqa_diamond</td>\n",
              "      <td>train</td>\n",
              "      <td>True</td>\n",
              "      <td>95</td>\n",
              "      <td>False</td>\n",
              "      <td>True</td>\n",
              "      <td>90.0</td>\n",
              "      <td>False</td>\n",
              "      <td>3</td>\n",
              "      <td>A</td>\n",
              "      <td>True</td>\n",
              "      <td>85</td>\n",
              "    </tr>\n",
              "    <tr>\n",
              "      <th>2</th>\n",
              "      <td>1009ea78</td>\n",
              "      <td>1970-08-23 09:17:01.142817</td>\n",
              "      <td>141</td>\n",
              "      <td>[1, 0]</td>\n",
              "      <td>[r=(1,1,0), r=(0,0,0)]</td>\n",
              "      <td>[False, True]</td>\n",
              "      <td>Idavidrein/gpqa</td>\n",
              "      <td>gpqa_diamond</td>\n",
              "      <td>train</td>\n",
              "      <td>True</td>\n",
              "      <td>100</td>\n",
              "      <td>False</td>\n",
              "      <td>True</td>\n",
              "      <td>95.0</td>\n",
              "      <td>False</td>\n",
              "      <td>2</td>\n",
              "      <td>B</td>\n",
              "      <td>True</td>\n",
              "      <td>95</td>\n",
              "    </tr>\n",
              "    <tr>\n",
              "      <th>3</th>\n",
              "      <td>64b8fc29</td>\n",
              "      <td>1970-08-23 09:17:01.142822</td>\n",
              "      <td>181</td>\n",
              "      <td>[0, 2]</td>\n",
              "      <td>[The Mott-Gurney equation is valid for a trap-...</td>\n",
              "      <td>[True, False]</td>\n",
              "      <td>Idavidrein/gpqa</td>\n",
              "      <td>gpqa_diamond</td>\n",
              "      <td>train</td>\n",
              "      <td>True</td>\n",
              "      <td>95</td>\n",
              "      <td>False</td>\n",
              "      <td>True</td>\n",
              "      <td>90.0</td>\n",
              "      <td>False</td>\n",
              "      <td>4</td>\n",
              "      <td>A</td>\n",
              "      <td>True</td>\n",
              "      <td>80</td>\n",
              "    </tr>\n",
              "    <tr>\n",
              "      <th>4</th>\n",
              "      <td>23080ec2</td>\n",
              "      <td>1970-08-23 09:17:01.142833</td>\n",
              "      <td>161</td>\n",
              "      <td>[1, 0]</td>\n",
              "      <td>[0, +\\infty]</td>\n",
              "      <td>[False, True]</td>\n",
              "      <td>Idavidrein/gpqa</td>\n",
              "      <td>gpqa_diamond</td>\n",
              "      <td>train</td>\n",
              "      <td>True</td>\n",
              "      <td>95</td>\n",
              "      <td>False</td>\n",
              "      <td>True</td>\n",
              "      <td>95.0</td>\n",
              "      <td>False</td>\n",
              "      <td>2</td>\n",
              "      <td>B</td>\n",
              "      <td>True</td>\n",
              "      <td>90</td>\n",
              "    </tr>\n",
              "  </tbody>\n",
              "</table>\n",
              "</div>"
            ],
            "text/plain": [
              "     run_id                  timestamp  question.question_idx  \\\n",
              "0  16feab01 1970-08-23 09:17:01.142813                     39   \n",
              "1  66821343 1970-08-23 09:17:01.142817                     40   \n",
              "2  1009ea78 1970-08-23 09:17:01.142817                    141   \n",
              "3  64b8fc29 1970-08-23 09:17:01.142822                    181   \n",
              "4  23080ec2 1970-08-23 09:17:01.142833                    161   \n",
              "\n",
              "  question.choices_selected  \\\n",
              "0                    [0, 3]   \n",
              "1                    [0, 1]   \n",
              "2                    [1, 0]   \n",
              "3                    [0, 2]   \n",
              "4                    [1, 0]   \n",
              "\n",
              "                              question.choice_values question.is_correct  \\\n",
              "0  [The compounds they are working with have simi...       [True, False]   \n",
              "1                             [(1+n*v)/(n+v)\\n\\n, 1]       [True, False]   \n",
              "2                             [r=(1,1,0), r=(0,0,0)]       [False, True]   \n",
              "3  [The Mott-Gurney equation is valid for a trap-...       [True, False]   \n",
              "4                                       [0, +\\infty]       [False, True]   \n",
              "\n",
              "  question.dataset_name question.dataset_subset question.dataset_split  \\\n",
              "0       Idavidrein/gpqa            gpqa_diamond                  train   \n",
              "1       Idavidrein/gpqa            gpqa_diamond                  train   \n",
              "2       Idavidrein/gpqa            gpqa_diamond                  train   \n",
              "3       Idavidrein/gpqa            gpqa_diamond                  train   \n",
              "4       Idavidrein/gpqa            gpqa_diamond                  train   \n",
              "\n",
              "   debater_direct.correct  debater_direct.confidence  debater_direct.cached  \\\n",
              "0                    True                         95                  False   \n",
              "1                    True                         95                  False   \n",
              "2                    True                        100                  False   \n",
              "3                    True                         95                  False   \n",
              "4                    True                         95                  False   \n",
              "\n",
              "   judge_direct.correct  judge_direct.confidence  judge_direct.cached  \\\n",
              "0                  True                     90.0                False   \n",
              "1                  True                     90.0                False   \n",
              "2                  True                     95.0                False   \n",
              "3                  True                     90.0                False   \n",
              "4                  True                     95.0                False   \n",
              "\n",
              "   modes.non_interactive.turns modes.non_interactive.winner  \\\n",
              "0                            4                            A   \n",
              "1                            3                            A   \n",
              "2                            2                            B   \n",
              "3                            4                            A   \n",
              "4                            2                            B   \n",
              "\n",
              "   modes.non_interactive.correct  modes.non_interactive.confidence  \n",
              "0                           True                                85  \n",
              "1                           True                                85  \n",
              "2                           True                                95  \n",
              "3                           True                                80  \n",
              "4                           True                                90  "
            ]
          },
          "execution_count": 248,
          "metadata": {},
          "output_type": "execute_result"
        }
      ],
      "source": [
        "# results_file = 'parallel_debate_runs/run_20251020_131736/master_results.jsonl'\n",
        "# results_file = 'parallel_debate_runs/run_20251020_135407/master_results.jsonl'\n",
        "# results_file = 'parallel_debate_runs/run_20251020_141121/master_results.jsonl'\n",
        "# results_file = 'parallel_debate_runs/run_20251021_074342/master_results.jsonl'\n",
        "# results_file = 'parallel_debate_runs/run_20251021_080557/master_results.jsonl'\n",
        "# results_file = 'parallel_debate_runs/run_20251021_091635/master_results.jsonl'\n",
        "# results_file = 'parallel_debate_runs/run_20251021_093704/master_results.jsonl'\n",
        "# results_file = 'parallel_debate_runs/run_20251021_094113/master_results.jsonl'\n",
        "# results_file = 'parallel_debate_runs/run_20251021_104033/master_results.jsonl'\n",
        "# results_file = 'parallel_debate_runs/run_20251021_134408/master_results.jsonl'\n",
        "# results_file = 'parallel_debate_runs/run_20251021_142720/master_results.jsonl'\n",
        "\n",
        "results_df = pd.json_normalize(pd.read_json(results_file, lines=True).to_dict('records'))\n",
        "results_df.head()"
      ]
    },
    {
      "cell_type": "code",
      "execution_count": 249,
      "metadata": {},
      "outputs": [
        {
          "data": {
            "text/html": [
              "<div>\n",
              "<style scoped>\n",
              "    .dataframe tbody tr th:only-of-type {\n",
              "        vertical-align: middle;\n",
              "    }\n",
              "\n",
              "    .dataframe tbody tr th {\n",
              "        vertical-align: top;\n",
              "    }\n",
              "\n",
              "    .dataframe thead th {\n",
              "        text-align: right;\n",
              "    }\n",
              "</style>\n",
              "<table border=\"1\" class=\"dataframe\">\n",
              "  <thead>\n",
              "    <tr style=\"text-align: right;\">\n",
              "      <th></th>\n",
              "      <th>accuracy</th>\n",
              "      <th>total_count</th>\n",
              "    </tr>\n",
              "  </thead>\n",
              "  <tbody>\n",
              "    <tr>\n",
              "      <th>debater_direct.correct</th>\n",
              "      <td>0.87</td>\n",
              "      <td>100</td>\n",
              "    </tr>\n",
              "    <tr>\n",
              "      <th>judge_direct.correct</th>\n",
              "      <td>0.59</td>\n",
              "      <td>100</td>\n",
              "    </tr>\n",
              "    <tr>\n",
              "      <th>modes.non_interactive.correct</th>\n",
              "      <td>0.75</td>\n",
              "      <td>100</td>\n",
              "    </tr>\n",
              "  </tbody>\n",
              "</table>\n",
              "</div>"
            ],
            "text/plain": [
              "                               accuracy  total_count\n",
              "debater_direct.correct             0.87          100\n",
              "judge_direct.correct               0.59          100\n",
              "modes.non_interactive.correct      0.75          100"
            ]
          },
          "execution_count": 249,
          "metadata": {},
          "output_type": "execute_result"
        }
      ],
      "source": [
        "correct_cols = results_df.filter(like='correct').drop(columns='question.is_correct')\n",
        "accuracies = pd.DataFrame({\n",
        "    'accuracy': correct_cols.mean(),\n",
        "    'total_count': correct_cols.count()\n",
        "})\n",
        "accuracies"
      ]
    },
    {
      "cell_type": "code",
      "execution_count": 250,
      "metadata": {},
      "outputs": [
        {
          "data": {
            "image/png": "[encoded data removed]",
            "text/plain": [
              "<Figure size 640x480 with 1 Axes>"
            ]
          },
          "metadata": {},
          "output_type": "display_data"
        }
      ],
      "source": [
        "from matplotlib import pyplot as plt\n",
        "ax = accuracies['accuracy'].plot.bar(color=plt.cm.tab10.colors, ylim=(0, 1))\n",
        "ax.set_xticklabels(ax.get_xticklabels(), rotation=45, ha='right')\n",
        "for bar, (idx, row) in zip(ax.patches, accuracies.iterrows()):\n",
        "    ax.text(bar.get_x() + bar.get_width()/2, bar.get_height() + 0.02, \n",
        "            f'{row[\"accuracy\"]:.2f} (n={int(row[\"total_count\"])})', \n",
        "            ha='center', va='bottom')\n",
        "plt.tight_layout()\n",
        "plt.title(results_file)\n",
        "plt.show()"
      ]
    },
    {
      "cell_type": "code",
      "execution_count": 251,
      "metadata": {},
      "outputs": [
        {
          "data": {
            "text/plain": [
              "modes.non_interactive.turns\n",
              "4    67\n",
              "3    17\n",
              "2     9\n",
              "5     4\n",
              "6     2\n",
              "7     1\n",
              "Name: count, dtype: int64"
            ]
          },
          "execution_count": 251,
          "metadata": {},
          "output_type": "execute_result"
        }
      ],
      "source": [
        "mode_prefix = 'modes.non_interactive'\n",
        "\n",
        "results_df[f'{mode_prefix}.turns'].value_counts()\n"
      ]
    },
    {
      "cell_type": "code",
      "execution_count": 252,
      "metadata": {},
      "outputs": [
        {
          "data": {
            "text/plain": [
              "count    75.000000\n",
              "mean      3.746667\n",
              "std       0.806952\n",
              "min       2.000000\n",
              "25%       3.000000\n",
              "50%       4.000000\n",
              "75%       4.000000\n",
              "max       6.000000\n",
              "Name: modes.non_interactive.turns, dtype: float64"
            ]
          },
          "execution_count": 252,
          "metadata": {},
          "output_type": "execute_result"
        }
      ],
      "source": [
        "# Get the non interactive turns on correct vs incorrect debater answers\n",
        "results_df[results_df[f'{mode_prefix}.correct'] == True][f'{mode_prefix}.turns'].describe()"
      ]
    },
    {
      "cell_type": "code",
      "execution_count": 253,
      "metadata": {},
      "outputs": [
        {
          "data": {
            "text/plain": [
              "count    25.000000\n",
              "mean      3.800000\n",
              "std       0.912871\n",
              "min       2.000000\n",
              "25%       4.000000\n",
              "50%       4.000000\n",
              "75%       4.000000\n",
              "max       7.000000\n",
              "Name: modes.non_interactive.turns, dtype: float64"
            ]
          },
          "execution_count": 253,
          "metadata": {},
          "output_type": "execute_result"
        }
      ],
      "source": [
        "\n",
        "results_df[results_df[f'{mode_prefix}.correct'] == False][f'{mode_prefix}.turns'].describe()"
      ]
    },
    {
      "cell_type": "code",
      "execution_count": 254,
      "metadata": {},
      "outputs": [
        {
          "data": {
            "image/png": "[encoded data removed]",
            "text/plain": [
              "<Figure size 400x800 with 1 Axes>"
            ]
          },
          "metadata": {},
          "output_type": "display_data"
        }
      ],
      "source": [
        "import matplotlib.pyplot as plt\n",
        "import numpy as np\n",
        "\n",
        "data = results_df[['debater_direct.correct', 'judge_direct.correct', f'{mode_prefix}.correct']].dropna().astype(float).values\n",
        "fig, ax = plt.subplots(figsize=(4, max(6, len(data) * 0.08)))\n",
        "im = ax.imshow(data, aspect='auto', cmap='RdYlGn', vmin=0, vmax=1, interpolation='nearest')\n",
        "ax.set_xticks([0, 1, 2])\n",
        "ax.set_xticklabels(['Debater QA', 'Judge QA', 'Debate'])\n",
        "ax.set_ylabel('Sample')\n",
        "ax.set_yticks([0, len(data)-1])\n",
        "ax.set_yticklabels([1, len(data)])\n",
        "plt.tight_layout()\n",
        "plt.show()\n"
      ]
    },
    {
      "cell_type": "code",
      "execution_count": 255,
      "metadata": {},
      "outputs": [
        {
          "data": {
            "text/plain": [
              "modes.non_interactive.winner\n",
              "A    54\n",
              "B    46\n",
              "Name: count, dtype: int64"
            ]
          },
          "execution_count": 255,
          "metadata": {},
          "output_type": "execute_result"
        }
      ],
      "source": [
        "results_df[f'{mode_prefix}.winner'].value_counts()"
      ]
    },
    {
      "cell_type": "code",
      "execution_count": 256,
      "metadata": {},
      "outputs": [
        {
          "data": {
            "text/html": [
              "<div>\n",
              "<style scoped>\n",
              "    .dataframe tbody tr th:only-of-type {\n",
              "        vertical-align: middle;\n",
              "    }\n",
              "\n",
              "    .dataframe tbody tr th {\n",
              "        vertical-align: top;\n",
              "    }\n",
              "\n",
              "    .dataframe thead th {\n",
              "        text-align: right;\n",
              "    }\n",
              "</style>\n",
              "<table border=\"1\" class=\"dataframe\">\n",
              "  <thead>\n",
              "    <tr style=\"text-align: right;\">\n",
              "      <th>Correct</th>\n",
              "      <th>False</th>\n",
              "      <th>True</th>\n",
              "    </tr>\n",
              "    <tr>\n",
              "      <th>Winner</th>\n",
              "      <th></th>\n",
              "      <th></th>\n",
              "    </tr>\n",
              "  </thead>\n",
              "  <tbody>\n",
              "    <tr>\n",
              "      <th>A</th>\n",
              "      <td>13</td>\n",
              "      <td>41</td>\n",
              "    </tr>\n",
              "    <tr>\n",
              "      <th>B</th>\n",
              "      <td>12</td>\n",
              "      <td>34</td>\n",
              "    </tr>\n",
              "  </tbody>\n",
              "</table>\n",
              "</div>"
            ],
            "text/plain": [
              "Correct  False  True \n",
              "Winner               \n",
              "A           13     41\n",
              "B           12     34"
            ]
          },
          "execution_count": 256,
          "metadata": {},
          "output_type": "execute_result"
        }
      ],
      "source": [
        "pd.crosstab(results_df[f'{mode_prefix}.winner'], results_df[f'{mode_prefix}.correct'], rownames=['Winner'], colnames=['Correct'])"
      ]
    },
    {
      "cell_type": "markdown",
      "metadata": {},
      "source": [
        "### Cross-experiment comparison"
      ]
    },
    {
      "cell_type": "code",
      "execution_count": 247,
      "metadata": {},
      "outputs": [
        {
          "data": {
            "image/png": "[encoded data removed]",
            "text/plain": [
              "<Figure size 1200x600 with 1 Axes>"
            ]
          },
          "metadata": {},
          "output_type": "display_data"
        }
      ],
      "source": [
        "# Cross-experiment comparison\n",
        "import matplotlib.pyplot as plt\n",
        "\n",
        "runs = [\n",
        "    ('parallel_debate_runs/run_20251020_135407/master_results.jsonl', ['debater_direct', 'judge_direct']),\n",
        "    ('parallel_debate_runs/run_20251020_135407/master_results.jsonl', ['debate']),\n",
        "    ('parallel_debate_runs/run_20251021_074342/master_results.jsonl', ['debate']),\n",
        "    ('parallel_debate_runs/run_20251021_080557/master_results.jsonl', ['debate']),\n",
        "    ('parallel_debate_runs/run_20251021_091635/master_results.jsonl', ['debate']),\n",
        "    ('parallel_debate_runs/run_20251021_093704/master_results.jsonl', ['debate']),\n",
        "]\n",
        "\n",
        "accuracies_list = []\n",
        "labels_list = []\n",
        "\n",
        "for results_file, conditions in runs:\n",
        "    df = pd.json_normalize(pd.read_json(results_file, lines=True).to_dict('records'))\n",
        "    \n",
        "    for condition in conditions:\n",
        "        if condition == 'debate':\n",
        "            if 'modes.non_interactive.correct' in df.columns:\n",
        "                col_name = 'modes.non_interactive.correct'\n",
        "            else:\n",
        "                col_name = 'modes.interactive.correct'\n",
        "        else:\n",
        "            col_name = f'{condition}.correct'\n",
        "        \n",
        "        if col_name in df.columns:\n",
        "            accuracy = df[col_name].mean()\n",
        "            count = df[col_name].count()\n",
        "            accuracies_list.append((accuracy, count))\n",
        "            \n",
        "            run_id = results_file.split('_')[-2]\n",
        "            labels_list.append(f\"{run_id}_{condition}\")\n",
        "\n",
        "# Custom x-axis labels (one per bar)\n",
        "custom_labels = ['debater qa', 'judge qa', 'debate baseline', '2 turns max', '1 turn max', 'simultaneous (1 \"turn\")', 'interactive']\n",
        "fig, ax = plt.subplots(figsize=(12, 6))\n",
        "x_pos = range(len(accuracies_list))\n",
        "accuracies = [a[0] for a in accuracies_list]\n",
        "counts = [a[1] for a in accuracies_list]\n",
        "bars = ax.bar(x_pos, accuracies, color=plt.cm.tab10.colors[:len(accuracies_list)])\n",
        "ax.set_xticks(x_pos)\n",
        "ax.set_xticklabels(custom_labels, rotation=45, ha='right')\n",
        "ax.set_ylabel('Accuracy')\n",
        "ax.set_ylim(0, 1)\n",
        "ax.set_title('Accuracy Comparison Across Experiments')\n",
        "\n",
        "for bar, acc, count in zip(bars, accuracies, counts):\n",
        "    ax.text(bar.get_x() + bar.get_width()/2, bar.get_height() + 0.02,\n",
        "            f'{acc:.2f}\\n(n={int(count)})',\n",
        "            ha='center', va='bottom', fontsize=9)\n",
        "\n",
        "plt.tight_layout()\n",
        "plt.show()\n"
      ]
    },
    {
      "cell_type": "code",
      "execution_count": null,
      "metadata": {},
      "outputs": [],
      "source": []
    }
  ],
  "metadata": {
    "kernelspec": {
      "display_name": "llm_judge_debate",
      "language": "python",
      "name": "python3"
    },
    "language_info": {
      "codemirror_mode": {
        "name": "ipython",
        "version": 3
      },
      "file_extension": ".py",
      "mimetype": "text/x-python",
      "name": "python",
      "nbconvert_exporter": "python",
      "pygments_lexer": "ipython3",
      "version": "3.11.13"
    }
  },
  "nbformat": 4,
  "nbformat_minor": 2
}
