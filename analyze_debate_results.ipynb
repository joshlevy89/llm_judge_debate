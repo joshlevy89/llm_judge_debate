{
  "cells": [
    {
      "cell_type": "markdown",
      "metadata": {},
      "source": [
        "# Debate Results Analysis\n",
        "\n",
        "Comparing accuracy across three conditions:\n",
        "1. **Debater Direct**: Debater LLM answers directly\n",
        "2. **Judge Direct**: Judge LLM answers directly\n",
        "3. **Debate**\n"
      ]
    },
    {
      "cell_type": "code",
      "execution_count": 34,
      "metadata": {},
      "outputs": [],
      "source": [
        "import json\n",
        "import pandas as pd"
      ]
    },
    {
      "cell_type": "code",
      "execution_count": 217,
      "metadata": {},
      "outputs": [
        {
          "data": {
            "text/html": [
              "<div>\n",
              "<style scoped>\n",
              "    .dataframe tbody tr th:only-of-type {\n",
              "        vertical-align: middle;\n",
              "    }\n",
              "\n",
              "    .dataframe tbody tr th {\n",
              "        vertical-align: top;\n",
              "    }\n",
              "\n",
              "    .dataframe thead th {\n",
              "        text-align: right;\n",
              "    }\n",
              "</style>\n",
              "<table border=\"1\" class=\"dataframe\">\n",
              "  <thead>\n",
              "    <tr style=\"text-align: right;\">\n",
              "      <th></th>\n",
              "      <th>run_id</th>\n",
              "      <th>timestamp</th>\n",
              "      <th>question.question_idx</th>\n",
              "      <th>question.choices_selected</th>\n",
              "      <th>question.choice_values</th>\n",
              "      <th>question.is_correct</th>\n",
              "      <th>question.dataset_name</th>\n",
              "      <th>question.dataset_subset</th>\n",
              "      <th>question.dataset_split</th>\n",
              "      <th>debater_direct.correct</th>\n",
              "      <th>debater_direct.confidence</th>\n",
              "      <th>debater_direct.cached</th>\n",
              "      <th>judge_direct.correct</th>\n",
              "      <th>judge_direct.confidence</th>\n",
              "      <th>judge_direct.cached</th>\n",
              "      <th>modes.non_interactive.turns</th>\n",
              "      <th>modes.non_interactive.winner</th>\n",
              "      <th>modes.non_interactive.correct</th>\n",
              "      <th>modes.non_interactive.confidence</th>\n",
              "    </tr>\n",
              "  </thead>\n",
              "  <tbody>\n",
              "    <tr>\n",
              "      <th>0</th>\n",
              "      <td>a3a944d0</td>\n",
              "      <td>1970-08-23 09:17:01.104126</td>\n",
              "      <td>167</td>\n",
              "      <td>[3, 0]</td>\n",
              "      <td>[2, 3 and 4, 3 and 4]</td>\n",
              "      <td>[False, True]</td>\n",
              "      <td>Idavidrein/gpqa</td>\n",
              "      <td>gpqa_diamond</td>\n",
              "      <td>train</td>\n",
              "      <td>False</td>\n",
              "      <td>100.0</td>\n",
              "      <td>True</td>\n",
              "      <td>False</td>\n",
              "      <td>85</td>\n",
              "      <td>True</td>\n",
              "      <td>4.0</td>\n",
              "      <td>B</td>\n",
              "      <td>True</td>\n",
              "      <td>75.0</td>\n",
              "    </tr>\n",
              "    <tr>\n",
              "      <th>1</th>\n",
              "      <td>f0f70991</td>\n",
              "      <td>1970-08-23 09:17:01.104127</td>\n",
              "      <td>29</td>\n",
              "      <td>[2, 0]</td>\n",
              "      <td>[Blue, Red]</td>\n",
              "      <td>[False, True]</td>\n",
              "      <td>Idavidrein/gpqa</td>\n",
              "      <td>gpqa_diamond</td>\n",
              "      <td>train</td>\n",
              "      <td>False</td>\n",
              "      <td>100.0</td>\n",
              "      <td>True</td>\n",
              "      <td>True</td>\n",
              "      <td>90</td>\n",
              "      <td>True</td>\n",
              "      <td>3.0</td>\n",
              "      <td>A</td>\n",
              "      <td>False</td>\n",
              "      <td>85.0</td>\n",
              "    </tr>\n",
              "    <tr>\n",
              "      <th>2</th>\n",
              "      <td>8214bbbb</td>\n",
              "      <td>1970-08-23 09:17:01.104128</td>\n",
              "      <td>21</td>\n",
              "      <td>[0, 2]</td>\n",
              "      <td>[weaker - slower, weaker – faster]</td>\n",
              "      <td>[True, False]</td>\n",
              "      <td>Idavidrein/gpqa</td>\n",
              "      <td>gpqa_diamond</td>\n",
              "      <td>train</td>\n",
              "      <td>True</td>\n",
              "      <td>100.0</td>\n",
              "      <td>True</td>\n",
              "      <td>False</td>\n",
              "      <td>85</td>\n",
              "      <td>True</td>\n",
              "      <td>3.0</td>\n",
              "      <td>B</td>\n",
              "      <td>False</td>\n",
              "      <td>85.0</td>\n",
              "    </tr>\n",
              "    <tr>\n",
              "      <th>3</th>\n",
              "      <td>3932b8e3</td>\n",
              "      <td>1970-08-23 09:17:01.104129</td>\n",
              "      <td>39</td>\n",
              "      <td>[0, 3]</td>\n",
              "      <td>[The compounds they are working with have simi...</td>\n",
              "      <td>[True, False]</td>\n",
              "      <td>Idavidrein/gpqa</td>\n",
              "      <td>gpqa_diamond</td>\n",
              "      <td>train</td>\n",
              "      <td>True</td>\n",
              "      <td>100.0</td>\n",
              "      <td>True</td>\n",
              "      <td>True</td>\n",
              "      <td>85</td>\n",
              "      <td>True</td>\n",
              "      <td>4.0</td>\n",
              "      <td>A</td>\n",
              "      <td>True</td>\n",
              "      <td>85.0</td>\n",
              "    </tr>\n",
              "    <tr>\n",
              "      <th>4</th>\n",
              "      <td>8df9eff3</td>\n",
              "      <td>1970-08-23 09:17:01.104129</td>\n",
              "      <td>135</td>\n",
              "      <td>[0, 1]</td>\n",
              "      <td>[4 π, 0]</td>\n",
              "      <td>[True, False]</td>\n",
              "      <td>Idavidrein/gpqa</td>\n",
              "      <td>gpqa_diamond</td>\n",
              "      <td>train</td>\n",
              "      <td>True</td>\n",
              "      <td>100.0</td>\n",
              "      <td>True</td>\n",
              "      <td>False</td>\n",
              "      <td>95</td>\n",
              "      <td>True</td>\n",
              "      <td>3.0</td>\n",
              "      <td>A</td>\n",
              "      <td>True</td>\n",
              "      <td>85.0</td>\n",
              "    </tr>\n",
              "  </tbody>\n",
              "</table>\n",
              "</div>"
            ],
            "text/plain": [
              "     run_id                  timestamp  question.question_idx  \\\n",
              "0  a3a944d0 1970-08-23 09:17:01.104126                    167   \n",
              "1  f0f70991 1970-08-23 09:17:01.104127                     29   \n",
              "2  8214bbbb 1970-08-23 09:17:01.104128                     21   \n",
              "3  3932b8e3 1970-08-23 09:17:01.104129                     39   \n",
              "4  8df9eff3 1970-08-23 09:17:01.104129                    135   \n",
              "\n",
              "  question.choices_selected  \\\n",
              "0                    [3, 0]   \n",
              "1                    [2, 0]   \n",
              "2                    [0, 2]   \n",
              "3                    [0, 3]   \n",
              "4                    [0, 1]   \n",
              "\n",
              "                              question.choice_values question.is_correct  \\\n",
              "0                              [2, 3 and 4, 3 and 4]       [False, True]   \n",
              "1                                        [Blue, Red]       [False, True]   \n",
              "2                 [weaker - slower, weaker – faster]       [True, False]   \n",
              "3  [The compounds they are working with have simi...       [True, False]   \n",
              "4                                           [4 π, 0]       [True, False]   \n",
              "\n",
              "  question.dataset_name question.dataset_subset question.dataset_split  \\\n",
              "0       Idavidrein/gpqa            gpqa_diamond                  train   \n",
              "1       Idavidrein/gpqa            gpqa_diamond                  train   \n",
              "2       Idavidrein/gpqa            gpqa_diamond                  train   \n",
              "3       Idavidrein/gpqa            gpqa_diamond                  train   \n",
              "4       Idavidrein/gpqa            gpqa_diamond                  train   \n",
              "\n",
              "  debater_direct.correct  debater_direct.confidence  debater_direct.cached  \\\n",
              "0                  False                      100.0                   True   \n",
              "1                  False                      100.0                   True   \n",
              "2                   True                      100.0                   True   \n",
              "3                   True                      100.0                   True   \n",
              "4                   True                      100.0                   True   \n",
              "\n",
              "   judge_direct.correct  judge_direct.confidence  judge_direct.cached  \\\n",
              "0                 False                       85                 True   \n",
              "1                  True                       90                 True   \n",
              "2                 False                       85                 True   \n",
              "3                  True                       85                 True   \n",
              "4                 False                       95                 True   \n",
              "\n",
              "   modes.non_interactive.turns modes.non_interactive.winner  \\\n",
              "0                          4.0                            B   \n",
              "1                          3.0                            A   \n",
              "2                          3.0                            B   \n",
              "3                          4.0                            A   \n",
              "4                          3.0                            A   \n",
              "\n",
              "  modes.non_interactive.correct  modes.non_interactive.confidence  \n",
              "0                          True                              75.0  \n",
              "1                         False                              85.0  \n",
              "2                         False                              85.0  \n",
              "3                          True                              85.0  \n",
              "4                          True                              85.0  "
            ]
          },
          "execution_count": 217,
          "metadata": {},
          "output_type": "execute_result"
        }
      ],
      "source": [
        "# results_file = 'parallel_debate_runs/run_20251020_131736/master_results.jsonl'\n",
        "# results_file = 'parallel_debate_runs/run_20251020_135407/master_results.jsonl'\n",
        "# results_file = 'parallel_debate_runs/run_20251020_141121/master_results.jsonl'\n",
        "# results_file = 'parallel_debate_runs/run_20251021_074342/master_results.jsonl'\n",
        "# results_file = 'parallel_debate_runs/run_20251021_080557/master_results.jsonl'\n",
        "# results_file = 'parallel_debate_runs/run_20251021_091635/master_results.jsonl'\n",
        "# results_file = 'parallel_debate_runs/run_20251021_093704/master_results.jsonl'\n",
        "# results_file = 'parallel_debate_runs/run_20251021_094113/master_results.jsonl'\n",
        "results_file = 'parallel_debate_runs/run_20251021_104033/master_results.jsonl'\n",
        "\n",
        "results_df = pd.json_normalize(pd.read_json(results_file, lines=True).to_dict('records'))\n",
        "results_df.head()"
      ]
    },
    {
      "cell_type": "code",
      "execution_count": 218,
      "metadata": {},
      "outputs": [
        {
          "data": {
            "text/html": [
              "<div>\n",
              "<style scoped>\n",
              "    .dataframe tbody tr th:only-of-type {\n",
              "        vertical-align: middle;\n",
              "    }\n",
              "\n",
              "    .dataframe tbody tr th {\n",
              "        vertical-align: top;\n",
              "    }\n",
              "\n",
              "    .dataframe thead th {\n",
              "        text-align: right;\n",
              "    }\n",
              "</style>\n",
              "<table border=\"1\" class=\"dataframe\">\n",
              "  <thead>\n",
              "    <tr style=\"text-align: right;\">\n",
              "      <th></th>\n",
              "      <th>accuracy</th>\n",
              "      <th>total_count</th>\n",
              "    </tr>\n",
              "  </thead>\n",
              "  <tbody>\n",
              "    <tr>\n",
              "      <th>debater_direct.correct</th>\n",
              "      <td>0.888889</td>\n",
              "      <td>90</td>\n",
              "    </tr>\n",
              "    <tr>\n",
              "      <th>judge_direct.correct</th>\n",
              "      <td>0.6</td>\n",
              "      <td>100</td>\n",
              "    </tr>\n",
              "    <tr>\n",
              "      <th>modes.non_interactive.correct</th>\n",
              "      <td>0.815217</td>\n",
              "      <td>92</td>\n",
              "    </tr>\n",
              "  </tbody>\n",
              "</table>\n",
              "</div>"
            ],
            "text/plain": [
              "                               accuracy  total_count\n",
              "debater_direct.correct         0.888889           90\n",
              "judge_direct.correct                0.6          100\n",
              "modes.non_interactive.correct  0.815217           92"
            ]
          },
          "execution_count": 218,
          "metadata": {},
          "output_type": "execute_result"
        }
      ],
      "source": [
        "correct_cols = results_df.filter(like='correct').drop(columns='question.is_correct')\n",
        "accuracies = pd.DataFrame({\n",
        "    'accuracy': correct_cols.mean(),\n",
        "    'total_count': correct_cols.count()\n",
        "})\n",
        "accuracies"
      ]
    },
    {
      "cell_type": "code",
      "execution_count": 219,
      "metadata": {},
      "outputs": [
        {
          "data": {
            "image/png": "[encoded data removed]",
            "text/plain": [
              "<Figure size 640x480 with 1 Axes>"
            ]
          },
          "metadata": {},
          "output_type": "display_data"
        }
      ],
      "source": [
        "from matplotlib import pyplot as plt\n",
        "ax = accuracies['accuracy'].plot.bar(color=plt.cm.tab10.colors, ylim=(0, 1))\n",
        "ax.set_xticklabels(ax.get_xticklabels(), rotation=45, ha='right')\n",
        "for bar, (idx, row) in zip(ax.patches, accuracies.iterrows()):\n",
        "    ax.text(bar.get_x() + bar.get_width()/2, bar.get_height() + 0.02, \n",
        "            f'{row[\"accuracy\"]:.2f} (n={int(row[\"total_count\"])})', \n",
        "            ha='center', va='bottom')\n",
        "plt.tight_layout()\n",
        "plt.title(results_file)\n",
        "plt.show()"
      ]
    },
    {
      "cell_type": "code",
      "execution_count": 222,
      "metadata": {},
      "outputs": [
        {
          "data": {
            "text/plain": [
              "modes.non_interactive.turns\n",
              "4.0    61\n",
              "3.0    16\n",
              "5.0     7\n",
              "2.0     6\n",
              "6.0     1\n",
              "7.0     1\n",
              "Name: count, dtype: int64"
            ]
          },
          "execution_count": 222,
          "metadata": {},
          "output_type": "execute_result"
        }
      ],
      "source": [
        "mode_prefix = 'modes.non_interactive'\n",
        "\n",
        "results_df[f'{mode_prefix}.turns'].value_counts()\n"
      ]
    },
    {
      "cell_type": "code",
      "execution_count": 223,
      "metadata": {},
      "outputs": [
        {
          "data": {
            "text/plain": [
              "count    75.000000\n",
              "mean      3.853333\n",
              "std       0.833315\n",
              "min       2.000000\n",
              "25%       4.000000\n",
              "50%       4.000000\n",
              "75%       4.000000\n",
              "max       7.000000\n",
              "Name: modes.non_interactive.turns, dtype: float64"
            ]
          },
          "execution_count": 223,
          "metadata": {},
          "output_type": "execute_result"
        }
      ],
      "source": [
        "# Get the non interactive turns on correct vs incorrect debater answers\n",
        "results_df[results_df[f'{mode_prefix}.correct'] == True][f'{mode_prefix}.turns'].describe()"
      ]
    },
    {
      "cell_type": "code",
      "execution_count": 224,
      "metadata": {},
      "outputs": [
        {
          "data": {
            "text/plain": [
              "count    17.000000\n",
              "mean      3.705882\n",
              "std       0.587868\n",
              "min       2.000000\n",
              "25%       4.000000\n",
              "50%       4.000000\n",
              "75%       4.000000\n",
              "max       4.000000\n",
              "Name: modes.non_interactive.turns, dtype: float64"
            ]
          },
          "execution_count": 224,
          "metadata": {},
          "output_type": "execute_result"
        }
      ],
      "source": [
        "\n",
        "results_df[results_df[f'{mode_prefix}.correct'] == False][f'{mode_prefix}.turns'].describe()"
      ]
    },
    {
      "cell_type": "code",
      "execution_count": 225,
      "metadata": {},
      "outputs": [
        {
          "data": {
            "image/png": "[encoded data removed]",
            "text/plain": [
              "<Figure size 400x696 with 1 Axes>"
            ]
          },
          "metadata": {},
          "output_type": "display_data"
        }
      ],
      "source": [
        "import matplotlib.pyplot as plt\n",
        "import numpy as np\n",
        "\n",
        "data = results_df[['debater_direct.correct', 'judge_direct.correct', f'{mode_prefix}.correct']].dropna().astype(float).values\n",
        "fig, ax = plt.subplots(figsize=(4, max(6, len(data) * 0.08)))\n",
        "im = ax.imshow(data, aspect='auto', cmap='RdYlGn', vmin=0, vmax=1, interpolation='nearest')\n",
        "ax.set_xticks([0, 1, 2])\n",
        "ax.set_xticklabels(['Debater QA', 'Judge QA', 'Debate'])\n",
        "ax.set_ylabel('Sample')\n",
        "ax.set_yticks([0, len(data)-1])\n",
        "ax.set_yticklabels([1, len(data)])\n",
        "plt.tight_layout()\n",
        "plt.show()\n"
      ]
    },
    {
      "cell_type": "code",
      "execution_count": 226,
      "metadata": {},
      "outputs": [
        {
          "data": {
            "text/plain": [
              "modes.non_interactive.winner\n",
              "A    47\n",
              "B    45\n",
              "Name: count, dtype: int64"
            ]
          },
          "execution_count": 226,
          "metadata": {},
          "output_type": "execute_result"
        }
      ],
      "source": [
        "results_df[f'{mode_prefix}.winner'].value_counts()"
      ]
    },
    {
      "cell_type": "code",
      "execution_count": 227,
      "metadata": {},
      "outputs": [
        {
          "data": {
            "text/html": [
              "<div>\n",
              "<style scoped>\n",
              "    .dataframe tbody tr th:only-of-type {\n",
              "        vertical-align: middle;\n",
              "    }\n",
              "\n",
              "    .dataframe tbody tr th {\n",
              "        vertical-align: top;\n",
              "    }\n",
              "\n",
              "    .dataframe thead th {\n",
              "        text-align: right;\n",
              "    }\n",
              "</style>\n",
              "<table border=\"1\" class=\"dataframe\">\n",
              "  <thead>\n",
              "    <tr style=\"text-align: right;\">\n",
              "      <th>Correct</th>\n",
              "      <th>False</th>\n",
              "      <th>True</th>\n",
              "    </tr>\n",
              "    <tr>\n",
              "      <th>Winner</th>\n",
              "      <th></th>\n",
              "      <th></th>\n",
              "    </tr>\n",
              "  </thead>\n",
              "  <tbody>\n",
              "    <tr>\n",
              "      <th>A</th>\n",
              "      <td>8</td>\n",
              "      <td>39</td>\n",
              "    </tr>\n",
              "    <tr>\n",
              "      <th>B</th>\n",
              "      <td>9</td>\n",
              "      <td>36</td>\n",
              "    </tr>\n",
              "  </tbody>\n",
              "</table>\n",
              "</div>"
            ],
            "text/plain": [
              "Correct  False  True \n",
              "Winner               \n",
              "A            8     39\n",
              "B            9     36"
            ]
          },
          "execution_count": 227,
          "metadata": {},
          "output_type": "execute_result"
        }
      ],
      "source": [
        "pd.crosstab(results_df[f'{mode_prefix}.winner'], results_df[f'{mode_prefix}.correct'], rownames=['Winner'], colnames=['Correct'])"
      ]
    },
    {
      "cell_type": "code",
      "execution_count": 237,
      "metadata": {},
      "outputs": [
        {
          "data": {
            "image/png": "[encoded data removed]",
            "text/plain": [
              "<Figure size 1200x600 with 1 Axes>"
            ]
          },
          "metadata": {},
          "output_type": "display_data"
        }
      ],
      "source": [
        "# Cross-experiment comparison\n",
        "import matplotlib.pyplot as plt\n",
        "\n",
        "runs = [\n",
        "    ('parallel_debate_runs/run_20251020_135407/master_results.jsonl', ['debater_direct', 'judge_direct']),\n",
        "    ('parallel_debate_runs/run_20251020_135407/master_results.jsonl', ['debate']),\n",
        "    ('parallel_debate_runs/run_20251021_074342/master_results.jsonl', ['debate']),\n",
        "    ('parallel_debate_runs/run_20251021_080557/master_results.jsonl', ['debate']),\n",
        "    ('parallel_debate_runs/run_20251021_091635/master_results.jsonl', ['debate']),\n",
        "    ('parallel_debate_runs/run_20251021_093704/master_results.jsonl', ['debate']),\n",
        "]\n",
        "\n",
        "accuracies_list = []\n",
        "labels_list = []\n",
        "\n",
        "for results_file, conditions in runs:\n",
        "    df = pd.json_normalize(pd.read_json(results_file, lines=True).to_dict('records'))\n",
        "    \n",
        "    for condition in conditions:\n",
        "        if condition == 'debate':\n",
        "            if 'modes.non_interactive.correct' in df.columns:\n",
        "                col_name = 'modes.non_interactive.correct'\n",
        "            else:\n",
        "                col_name = 'modes.interactive.correct'\n",
        "        else:\n",
        "            col_name = f'{condition}.correct'\n",
        "        \n",
        "        if col_name in df.columns:\n",
        "            accuracy = df[col_name].mean()\n",
        "            count = df[col_name].count()\n",
        "            accuracies_list.append((accuracy, count))\n",
        "            \n",
        "            run_id = results_file.split('_')[-2]\n",
        "            labels_list.append(f\"{run_id}_{condition}\")\n",
        "\n",
        "# Custom x-axis labels (one per bar)\n",
        "custom_labels = ['debater qa', 'judge qa', 'debate baseline', '2 turns max', '1 turn max', 'simultaneous (1 \"turn\")', 'interactive']\n",
        "fig, ax = plt.subplots(figsize=(12, 6))\n",
        "x_pos = range(len(accuracies_list))\n",
        "accuracies = [a[0] for a in accuracies_list]\n",
        "counts = [a[1] for a in accuracies_list]\n",
        "bars = ax.bar(x_pos, accuracies, color=plt.cm.tab10.colors[:len(accuracies_list)])\n",
        "ax.set_xticks(x_pos)\n",
        "ax.set_xticklabels(custom_labels, rotation=45, ha='right')\n",
        "ax.set_ylabel('Accuracy')\n",
        "ax.set_ylim(0, 1)\n",
        "ax.set_title('Accuracy Comparison Across Experiments')\n",
        "\n",
        "for bar, acc, count in zip(bars, accuracies, counts):\n",
        "    ax.text(bar.get_x() + bar.get_width()/2, bar.get_height() + 0.02,\n",
        "            f'{acc:.2f}\\n(n={int(count)})',\n",
        "            ha='center', va='bottom', fontsize=9)\n",
        "\n",
        "plt.tight_layout()\n",
        "plt.show()\n"
      ]
    },
    {
      "cell_type": "code",
      "execution_count": null,
      "metadata": {},
      "outputs": [],
      "source": []
    }
  ],
  "metadata": {
    "kernelspec": {
      "display_name": "llm_judge_debate",
      "language": "python",
      "name": "python3"
    },
    "language_info": {
      "codemirror_mode": {
        "name": "ipython",
        "version": 3
      },
      "file_extension": ".py",
      "mimetype": "text/x-python",
      "name": "python",
      "nbconvert_exporter": "python",
      "pygments_lexer": "ipython3",
      "version": "3.11.13"
    }
  },
  "nbformat": 4,
  "nbformat_minor": 2
}
